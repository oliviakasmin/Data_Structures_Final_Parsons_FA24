{
 "cells": [
  {
   "cell_type": "code",
   "execution_count": 75,
   "id": "72ca1f82-2c27-4b22-bbe6-c5da453f9ec3",
   "metadata": {},
   "outputs": [],
   "source": [
    "from bs4 import BeautifulSoup\n",
    "import requests\n",
    "import re\n",
    "import pandas as pd\n",
    "import asyncio\n",
    "from playwright.async_api import async_playwright"
   ]
  },
  {
   "cell_type": "markdown",
   "id": "c2a052d5-ff75-472b-87c0-f4e4a931839d",
   "metadata": {},
   "source": [
    "### Plan of action:\n",
    "1. Go to main search page\n",
    "2. Click on see all link\n",
    "3. Get table contents from first page\n",
    "4. Navigate to url with next search results\n",
    "5. Get table contents from that page\n",
    "6. Repeat until end\n",
    "\n",
    "Pages have 50 results each, so page numbers for URL are\n",
    "51\n",
    "101\n",
    "151\n",
    "...\n",
    "1901\n",
    "\n",
    "### Code required:\n",
    "1. Initial setup to get to first table\n",
    "2. Current page counter\n",
    "3. Array to push all results into\n",
    "4. Function to grab table info from each table\n",
    "5. Function to navigate to next page\n",
    "6. While loop for current page counter <= 1901"
   ]
  },
  {
   "cell_type": "markdown",
   "id": "8c77e566-3b7f-4e50-9702-52092d497499",
   "metadata": {},
   "source": [
    "#### Start up playwright and get to the first page"
   ]
  },
  {
   "cell_type": "code",
   "execution_count": 56,
   "id": "d4df75c0-2385-4b28-99b8-e04ed3ec8612",
   "metadata": {},
   "outputs": [],
   "source": [
    "playwright = await async_playwright().start()\n",
    "browser = await playwright.chromium.launch(headless = False)\n",
    "page = await browser.new_page()"
   ]
  },
  {
   "cell_type": "code",
   "execution_count": 57,
   "id": "93a0f8cd-d44b-4375-ab4c-ed737963d1bf",
   "metadata": {},
   "outputs": [
    {
     "data": {
      "text/plain": [
       "<Response url='https://cumulis.epa.gov/supercpad/Cursites/srchsites.cfm' request=<Request url='https://cumulis.epa.gov/supercpad/Cursites/srchsites.cfm' method='GET'>>"
      ]
     },
     "execution_count": 57,
     "metadata": {},
     "output_type": "execute_result"
    }
   ],
   "source": [
    "firstUrl = \"https://cumulis.epa.gov/supercpad/Cursites/srchsites.cfm\"\n",
    "await page.goto(firstUrl)"
   ]
  },
  {
   "cell_type": "code",
   "execution_count": 58,
   "id": "d7803011-ff16-4ee4-9a29-37582f8dfc69",
   "metadata": {},
   "outputs": [
    {
     "name": "stdout",
     "output_type": "stream",
     "text": [
      "JSHandle@node\n"
     ]
    }
   ],
   "source": [
    "seeAllLink =  await page.query_selector(\"#nplAll\")\n",
    "print(seeAllLink)"
   ]
  },
  {
   "cell_type": "code",
   "execution_count": 59,
   "id": "e6ed1ee2-4792-4d16-b779-7dff88a701fa",
   "metadata": {},
   "outputs": [],
   "source": [
    "await seeAllLink.click()"
   ]
  },
  {
   "cell_type": "markdown",
   "id": "ac98c9fc-c11a-4de5-94dc-2a4d94b6e556",
   "metadata": {},
   "source": [
    "#### Save all table text here:"
   ]
  },
  {
   "cell_type": "code",
   "execution_count": 60,
   "id": "2a11c04a-e250-4938-811a-0c5f46e6e29b",
   "metadata": {},
   "outputs": [],
   "source": [
    "tableText = []\n",
    "testTableText = []\n",
    "testFirstTable = []"
   ]
  },
  {
   "cell_type": "markdown",
   "id": "9371f95c-4505-48a2-a80c-91da53557759",
   "metadata": {},
   "source": [
    "#### Functions for grabbing table info and going to next page"
   ]
  },
  {
   "cell_type": "code",
   "execution_count": 61,
   "id": "1528b28f-71c7-4257-867a-4483762535f8",
   "metadata": {},
   "outputs": [],
   "source": [
    "async def get_table_text():\n",
    "    table = await page.query_selector(\"#tablesorter\")\n",
    "    tableBody = await table.query_selector(\"tbody\")\n",
    "    rows = await tableBody.query_selector_all(\"tr\")\n",
    "    for row in rows:\n",
    "        cells = await row.query_selector_all(\"td\")\n",
    "        rowInfo = []\n",
    "        for cell in cells:\n",
    "            info = await cell.text_content()\n",
    "            rowInfo.append(info)\n",
    "        tableText.append(rowInfo)\n",
    "        # testTableText.append(rowInfo)\n",
    "        # testFirstTable.append(rowInfo)"
   ]
  },
  {
   "cell_type": "code",
   "execution_count": 62,
   "id": "f2605fe5-849c-4402-8ed1-aa7085e14fe8",
   "metadata": {},
   "outputs": [],
   "source": [
    "state = {\"test_page_counter\": 1, \"page_counter\": 1}"
   ]
  },
  {
   "cell_type": "code",
   "execution_count": 63,
   "id": "9482224a-d67f-46b5-b9ce-7d43d515c2bd",
   "metadata": {},
   "outputs": [],
   "source": [
    "async def go_to_next_page():\n",
    "    # state[\"test_page_counter\"] += 50  \n",
    "    state[\"page_counter\"] += 50  \n",
    "    # nextUrl = f\"https://cumulis.epa.gov/supercpad/Cursites/srchrslt.cfm?Start={state['test_page_counter']}&sortby=site\"\n",
    "    nextUrl = f\"https://cumulis.epa.gov/supercpad/Cursites/srchrslt.cfm?Start={state['page_counter']}&sortby=site\"\n",
    "    await page.goto(nextUrl)"
   ]
  },
  {
   "cell_type": "markdown",
   "id": "0f2c2ba1-4a61-4438-aea8-674504e255e7",
   "metadata": {},
   "source": [
    "#### Test for the first table and navigating to the next table"
   ]
  },
  {
   "cell_type": "code",
   "execution_count": 8,
   "id": "e70593f8-09b1-4e6f-8ef4-d15075f45ae5",
   "metadata": {},
   "outputs": [],
   "source": [
    "await get_table_text()"
   ]
  },
  {
   "cell_type": "code",
   "execution_count": 9,
   "id": "bdbf592f-fc92-4e34-8d2f-db0ee84bacce",
   "metadata": {},
   "outputs": [
    {
     "name": "stdout",
     "output_type": "stream",
     "text": [
      "[['NED981713837', '10TH STREET SITE', 'COLUMBUS', 'PLATTE', 'NE', '\\n\\t\\t\\t\\n\\t\\t\\t\\t\\tFinal NPL\\n\\t\\t\\t\\t\\n\\t\\t', 'No ', 'Yes', 'Yes', '\\n\\t\\t\\n\\t\\t\\tYes\\n\\t\\t\\n\\t', '\\n\\t\\t\\n\\t\\t\\tYes\\n\\t\\t\\n\\t '], ['KSD007241656', '29TH & MEAD GROUND WATER CONTAMINATION', 'WICHITA', 'SEDGWICK', 'KS', '\\n\\t\\t\\t\\n\\t\\t\\t\\t\\tDeleted NPL\\n\\t\\t\\t\\t\\n\\t\\t', 'No ', 'No ', 'No ', '\\n\\t\\t\\n\\t\\t\\tYes\\n\\t\\t\\n\\t', '\\n\\t\\t\\n\\t\\t\\tYes\\n\\t\\t\\n\\t '], ['ALN000410750', '35TH AVENUE', 'BIRMINGHAM', 'JEFFERSON', 'AL', '\\n\\t\\t\\t\\n\\t\\t\\t\\t\\tProposed NPL\\n\\t\\t\\t\\t\\n\\t\\t', 'No ', 'No ', 'No ', '\\n\\t\\t\\n\\t\\t\\t\\tStatus Unavailable\\n\\t\\t\\t\\n\\t', '\\n\\t\\t\\n\\t\\t\\t\\tStatus Unavailable\\n\\t\\t\\t\\n\\t '], ['KSD981710247', '57TH AND NORTH BROADWAY STREETS SITE', 'WICHITA', 'SEDGWICK', 'KS', '\\n\\t\\t\\t\\n\\t\\t\\t\\t\\tFinal NPL\\n\\t\\t\\t\\t\\n\\t\\t', 'No ', 'Yes', 'No ', '\\n\\t\\t\\n\\t\\t\\tYes\\n\\t\\t\\n\\t', '\\n\\t\\t\\n\\t\\t\\tNo\\n\\t\\t\\n\\t '], ['MDD980918387', '68TH STREET DUMP/INDUSTRIAL ENTERPRISES', 'ROSEDALE', 'BALTIMORE', 'MD', '\\n\\t\\t\\t\\n\\t\\t\\t\\t\\tProposed NPL\\n\\t\\t\\t\\t\\n\\t\\t', 'Yes', 'No ', 'No ', '\\n\\t\\t\\n\\t\\t\\tYes\\n\\t\\t\\n\\t', '\\n\\t\\t\\n\\t\\t\\tYes\\n\\t\\t\\n\\t '], ['UTD981548985', '700 SOUTH 1600 EAST PCE PLUME', 'SALT LAKE CITY', 'SALT LAKE', 'UT', '\\n\\t\\t\\t\\n\\t\\t\\t\\t\\tFinal NPL\\n\\t\\t\\t\\t\\n\\t\\t', 'No ', 'No ', 'No ', '\\n\\t\\t\\n\\t\\t\\tNo\\n\\t\\t\\n\\t', '\\n\\t\\t\\n\\t\\t\\tInsufficient Data\\n\\t\\t\\n\\t '], ['ILD980397079', 'A & F MATERIAL RECLAIMING, INC.', 'GREENUP', 'CUMBERLAND', 'IL', '\\n\\t\\t\\t\\n\\t\\t\\t\\t\\tDeleted NPL\\n\\t\\t\\t\\t\\n\\t\\t', 'No ', 'Yes', 'Yes', '\\n\\t\\t\\n\\t\\t\\tYes\\n\\t\\t\\n\\t', '\\n\\t\\t\\n\\t\\t\\tYes\\n\\t\\t\\n\\t '], ['NJD030253355', 'A. O. POLYMER', 'SPARTA TOWNSHIP', 'SUSSEX', 'NJ', '\\n\\t\\t\\t\\n\\t\\t\\t\\t\\tFinal NPL\\n\\t\\t\\t\\t\\n\\t\\t', 'No ', 'Yes', 'Yes', '\\n\\t\\t\\n\\t\\t\\tYes\\n\\t\\t\\n\\t', '\\n\\t\\t\\n\\t\\t\\tYes\\n\\t\\t\\n\\t '], ['PAD004351003', 'A.I.W. FRANK/MID-COUNTY MUSTANG', 'EXTON', 'CHESTER', 'PA', '\\n\\t\\t\\t\\n\\t\\t\\t\\t\\tFinal NPL\\n\\t\\t\\t\\t\\n\\t\\t', 'No ', 'Yes', 'Yes', '\\n\\t\\t\\n\\t\\t\\tYes\\n\\t\\t\\n\\t', '\\n\\t\\t\\n\\t\\t\\tYes\\n\\t\\t\\n\\t '], ['KYD980500961', 'A.L. TAYLOR (VALLEY OF DRUMS)', 'BROOKS', 'BULLITT', 'KY', '\\n\\t\\t\\t\\n\\t\\t\\t\\t\\tDeleted NPL\\n\\t\\t\\t\\t\\n\\t\\t', 'No ', 'Yes', 'No ', '\\n\\t\\t\\n\\t\\t\\tYes\\n\\t\\t\\n\\t', '\\n\\t\\t\\n\\t\\t\\tYes\\n\\t\\t\\n\\t '], ['NCD024644494', 'ABC ONE HOUR CLEANERS', 'JACKSONVILLE', 'ONSLOW', 'NC', '\\n\\t\\t\\t\\n\\t\\t\\t\\t\\tFinal NPL\\n\\t\\t\\t\\t\\n\\t\\t', 'No ', 'Yes', 'No ', '\\n\\t\\t\\n\\t\\t\\tYes\\n\\t\\t\\n\\t', '\\n\\t\\t\\n\\t\\t\\tYes\\n\\t\\t\\n\\t '], ['NCN000407447', 'ABERDEEN CONTAMINATED GROUND WATER', 'ABERDEEN', 'MOORE', 'NC', '\\n\\t\\t\\t\\n\\t\\t\\t\\t\\tFinal NPL\\n\\t\\t\\t\\t\\n\\t\\t', 'No ', 'No ', 'No ', '\\n\\t\\t\\n\\t\\t\\tNo\\n\\t\\t\\n\\t', '\\n\\t\\t\\n\\t\\t\\tNo\\n\\t\\t\\n\\t '], ['NCD980843346', 'ABERDEEN PESTICIDE DUMPS', 'ABERDEEN', 'MOORE', 'NC', '\\n\\t\\t\\t\\n\\t\\t\\t\\t\\tFinal NPL\\n\\t\\t\\t\\t\\n\\t\\t', 'No ', 'Yes', 'Yes', '\\n\\t\\t\\n\\t\\t\\tYes\\n\\t\\t\\n\\t', '\\n\\t\\t\\n\\t\\t\\tYes\\n\\t\\t\\n\\t '], ['MD2210020036', 'ABERDEEN PROVING GROUND (EDGEWOOD AREA)', 'EDGEWOOD', 'HARFORD', 'MD', '\\n\\t\\t\\t\\n\\t\\t\\t\\t\\tFinal NPL\\n\\t\\t\\t\\t\\n\\t\\t', 'No ', 'No ', 'No ', '\\n\\t\\t\\n\\t\\t\\tYes\\n\\t\\t\\n\\t', '\\n\\t\\t\\n\\t\\t\\tInsufficient Data\\n\\t\\t\\n\\t '], ['MD3210021355', 'ABERDEEN PROVING GROUND (MICHAELSVILLE LANDFILL)', 'ABERDEEN', 'HARFORD', 'MD', '\\n\\t\\t\\t\\n\\t\\t\\t\\t\\tFinal NPL\\n\\t\\t\\t\\t\\n\\t\\t', 'No ', 'Yes', 'No ', '\\n\\t\\t\\n\\t\\t\\tYes\\n\\t\\t\\n\\t', '\\n\\t\\t\\n\\t\\t\\tInsufficient Data\\n\\t\\t\\n\\t '], ['VAD980551683', 'ABEX CORP.', 'PORTSMOUTH', 'PORTSMOUTH CITY', 'VA', '\\n\\t\\t\\t\\n\\t\\t\\t\\t\\tFinal NPL\\n\\t\\t\\t\\t\\n\\t\\t', 'No ', 'Yes', 'Yes', '\\n\\t\\t\\n\\t\\t\\tYes\\n\\t\\t\\n\\t', '\\n\\t\\t\\n\\t\\t\\tYes\\n\\t\\t\\n\\t '], ['KSD046746731', 'ACE SERVICES', 'COLBY', 'THOMAS', 'KS', '\\n\\t\\t\\t\\n\\t\\t\\t\\t\\tFinal NPL\\n\\t\\t\\t\\t\\n\\t\\t', 'No ', 'Yes', 'Yes', '\\n\\t\\t\\n\\t\\t\\tYes\\n\\t\\t\\n\\t', '\\n\\t\\t\\n\\t\\t\\tYes\\n\\t\\t\\n\\t '], ['MTD093291599', 'ACM SMELTER AND REFINERY', 'BLACK EAGLE', 'CASCADE', 'MT', '\\n\\t\\t\\t\\n\\t\\t\\t\\t\\tFinal NPL\\n\\t\\t\\t\\t\\n\\t\\t', 'No ', 'No ', 'No ', '\\n\\t\\t\\n\\t\\t\\tNo\\n\\t\\t\\n\\t', '\\n\\t\\t\\n\\t\\t\\tInsufficient Data\\n\\t\\t\\n\\t '], ['ILD053219259', 'ACME SOLVENT RECLAIMING, INC. (MORRISTOWN PLANT)', 'MORRISTOWN', 'WINNEBAGO', 'IL', '\\n\\t\\t\\t\\n\\t\\t\\t\\t\\tFinal NPL\\n\\t\\t\\t\\t\\n\\t\\t', 'No ', 'Yes', 'No ', '\\n\\t\\t\\n\\t\\t\\tYes\\n\\t\\t\\n\\t', '\\n\\t\\t\\n\\t\\t\\tYes\\n\\t\\t\\n\\t '], ['ILN000509241', 'ACME STEEL COKE PLANT', 'CHICAGO', 'COOK', 'IL', '\\n\\t\\t\\t\\n\\t\\t\\t\\t\\tFinal NPL\\n\\t\\t\\t\\t\\n\\t\\t', 'No ', 'No ', 'No ', '\\n\\t\\t\\n\\t\\t\\tInsufficient Data\\n\\t\\t\\n\\t', '\\n\\t\\t\\n\\t\\t\\tInsufficient Data\\n\\t\\t\\n\\t '], ['NYD072366453', 'ACTION ANODIZING, PLATING, & POLISHING CORP.', 'COPIAGUE', 'SUFFOLK', 'NY', '\\n\\t\\t\\t\\n\\t\\t\\t\\t\\tDeleted NPL\\n\\t\\t\\t\\t\\n\\t\\t', 'No ', 'Yes', 'Yes', '\\n\\t\\t\\n\\t\\t\\tYes\\n\\t\\t\\n\\t', '\\n\\t\\t\\n\\t\\t\\tYes\\n\\t\\t\\n\\t '], ['AK4170024323', 'ADAK NAVAL AIR STATION', 'ADAK', '[Blank County]', 'AK', '\\n\\t\\t\\t\\n\\t\\t\\t\\t\\tFinal NPL\\n\\t\\t\\t\\t\\n\\t\\t', 'No ', 'No ', 'No ', '\\n\\t\\t\\n\\t\\t\\tYes\\n\\t\\t\\n\\t', '\\n\\t\\t\\n\\t\\t\\tYes\\n\\t\\t\\n\\t '], ['MID006522791', \"ADAM'S PLATING\", 'LANSING', 'INGHAM', 'MI', '\\n\\t\\t\\t\\n\\t\\t\\t\\t\\tFinal NPL\\n\\t\\t\\t\\t\\n\\t\\t', 'No ', 'Yes', 'No ', '\\n\\t\\t\\n\\t\\t\\tNo\\n\\t\\t\\n\\t', '\\n\\t\\t\\n\\t\\t\\tInsufficient Data\\n\\t\\t\\n\\t '], ['ILD980607055', 'ADAMS COUNTY QUINCY LANDFILLS 2&3', 'QUINCY', 'ADAMS', 'IL', '\\n\\t\\t\\t\\n\\t\\t\\t\\t\\tFinal NPL\\n\\t\\t\\t\\t\\n\\t\\t', 'No ', 'Yes', 'No ', '\\n\\t\\t\\n\\t\\t\\tInsufficient Data\\n\\t\\t\\n\\t', '\\n\\t\\t\\n\\t\\t\\tInsufficient Data\\n\\t\\t\\n\\t '], ['SCD047563614', 'ADMIRAL HOME APPLIANCES', 'WILLISTON', 'BARNWELL', 'SC', '\\n\\t\\t\\t\\n\\t\\t\\t\\t\\tNot NPL\\n\\t\\t\\t\\t\\n\\t\\t', 'Yes', 'Yes', 'No ', '\\n\\t\\t\\n\\t\\t\\tYes\\n\\t\\t\\n\\t', '\\n\\t\\t\\n\\t\\t\\tYes\\n\\t\\t\\n\\t '], ['MND980904023', 'ADRIAN MUNICIPAL WELL FIELD', 'ADRIAN', 'NOBLES', 'MN', '\\n\\t\\t\\t\\n\\t\\t\\t\\t\\tDeleted NPL\\n\\t\\t\\t\\t\\n\\t\\t', 'No ', 'Yes', 'No ', '\\n\\t\\t\\n\\t\\t\\tYes\\n\\t\\t\\n\\t', '\\n\\t\\t\\n\\t\\t\\tYes\\n\\t\\t\\n\\t '], ['CAD048634059', 'ADVANCED MICRO DEVICES, INC.', 'SUNNYVALE', 'SANTA CLARA', 'CA', '\\n\\t\\t\\t\\n\\t\\t\\t\\t\\tFinal NPL\\n\\t\\t\\t\\t\\n\\t\\t', 'No ', 'Yes', 'No ', '\\n\\t\\t\\n\\t\\t\\tYes\\n\\t\\t\\n\\t', '\\n\\t\\t\\n\\t\\t\\tYes\\n\\t\\t\\n\\t '], ['CAT080034234', 'ADVANCED MICRO DEVICES, INC. (BUILDING 915)', 'SUNNYVALE', 'SANTA CLARA', 'CA', '\\n\\t\\t\\t\\n\\t\\t\\t\\t\\tFinal NPL\\n\\t\\t\\t\\t\\n\\t\\t', 'No ', 'Yes', 'Yes', '\\n\\t\\t\\n\\t\\t\\tYes\\n\\t\\t\\n\\t', '\\n\\t\\t\\n\\t\\t\\tYes\\n\\t\\t\\n\\t '], ['CAD980358832', 'AEROJET GENERAL CORP.', 'RANCHO CORDOVA', 'SACRAMENTO', 'CA', '\\n\\t\\t\\t\\n\\t\\t\\t\\t\\tFinal NPL\\n\\t\\t\\t\\t\\n\\t\\t', 'No ', 'No ', 'No ', '\\n\\t\\t\\n\\t\\t\\tYes\\n\\t\\t\\n\\t', '\\n\\t\\t\\n\\t\\t\\tNo\\n\\t\\t\\n\\t '], ['CAN000908808', 'AFTERTHOUGHT MINE', 'BELLA VISTA', 'SHASTA', 'CA', '\\n\\t\\t\\t\\n\\t\\t\\t\\t\\tFinal NPL\\n\\t\\t\\t\\t\\n\\t\\t', 'No ', 'No ', 'No ', '\\n\\t\\t\\n\\t\\t\\t\\tNot yet designated\\n\\t\\t\\t\\n\\t', '\\n\\t\\t\\n\\t\\t\\t\\tNot yet designated\\n\\t\\t\\t\\n\\t '], ['MND980898068', 'AGATE LAKE SCRAPYARD', 'FAIRVIEW TOWNSHIP', 'CASS', 'MN', '\\n\\t\\t\\t\\n\\t\\t\\t\\t\\tDeleted NPL\\n\\t\\t\\t\\t\\n\\t\\t', 'No ', 'Yes', 'Yes', '\\n\\t\\t\\n\\t\\t\\tYes\\n\\t\\t\\n\\t', '\\n\\t\\t\\n\\t\\t\\tYes\\n\\t\\t\\n\\t '], ['FLD980221857', 'AGRICO CHEMICAL CO.', 'PENSACOLA', 'ESCAMBIA', 'FL', '\\n\\t\\t\\t\\n\\t\\t\\t\\t\\tFinal NPL\\n\\t\\t\\t\\t\\n\\t\\t', 'No ', 'Yes', 'Yes', '\\n\\t\\t\\n\\t\\t\\tYes\\n\\t\\t\\n\\t', '\\n\\t\\t\\n\\t\\t\\tYes\\n\\t\\t\\n\\t '], ['LAD981056997', 'AGRICULTURE STREET LANDFILL', 'NEW ORLEANS', 'ORLEANS', 'LA', '\\n\\t\\t\\t\\n\\t\\t\\t\\t\\tFinal NPL\\n\\t\\t\\t\\t\\n\\t\\t', 'No ', 'Yes', 'Yes', '\\n\\t\\t\\n\\t\\t\\tYes\\n\\t\\t\\n\\t', '\\n\\t\\t\\n\\t\\t\\tYes\\n\\t\\t\\n\\t '], ['IAD042581256', 'AIDEX CORP.', 'MINEOLA', 'MILLS', 'IA', '\\n\\t\\t\\t\\n\\t\\t\\t\\t\\tDeleted NPL\\n\\t\\t\\t\\t\\n\\t\\t', 'No ', 'Yes', 'Yes', '\\n\\t\\t\\n\\t\\t\\tYes\\n\\t\\t\\n\\t', '\\n\\t\\t\\n\\t\\t\\tYes\\n\\t\\t\\n\\t '], ['TX7572024605', 'AIR FORCE PLANT #4 (GENERAL DYNAMICS)', 'FORT WORTH', 'TARRANT', 'TX', '\\n\\t\\t\\t\\n\\t\\t\\t\\t\\tFinal NPL\\n\\t\\t\\t\\t\\n\\t\\t', 'No ', 'Yes', 'No ', '\\n\\t\\t\\n\\t\\t\\tInsufficient Data\\n\\t\\t\\n\\t', '\\n\\t\\t\\n\\t\\t\\tYes\\n\\t\\t\\n\\t '], ['OH1170090004', 'AIR FORCE PLANT 85', 'COLUMBUS', 'FRANKLIN', 'OH', '\\n\\t\\t\\t\\n\\t\\t\\t\\t\\tProposed NPL\\n\\t\\t\\t\\t\\n\\t\\t', 'No ', 'No ', 'No ', '\\n\\t\\t\\n\\t\\t\\tYes\\n\\t\\t\\n\\t', '\\n\\t\\t\\n\\t\\t\\tYes\\n\\t\\t\\n\\t '], ['CO7570090038', 'AIR FORCE PLANT PJKS', 'LITTLETON', 'JEFFERSON', 'CO', '\\n\\t\\t\\t\\n\\t\\t\\t\\t\\tFinal NPL\\n\\t\\t\\t\\t\\n\\t\\t', 'No ', 'Yes', 'No ', '\\n\\t\\t\\n\\t\\t\\tInsufficient Data\\n\\t\\t\\n\\t', '\\n\\t\\t\\n\\t\\t\\tInsufficient Data\\n\\t\\t\\n\\t '], ['KYD041981010', 'AIRCO', 'CALVERT CITY', 'MARSHALL', 'KY', '\\n\\t\\t\\t\\n\\t\\t\\t\\t\\tDeleted NPL\\n\\t\\t\\t\\t\\n\\t\\t', 'No ', 'Yes', 'Yes', '\\n\\t\\t\\n\\t\\t\\tYes\\n\\t\\t\\n\\t', '\\n\\t\\t\\n\\t\\t\\tYes\\n\\t\\t\\n\\t '], ['FLD004145140', 'AIRCO PLATING CO.', 'MIAMI', 'MIAMI-DADE', 'FL', '\\n\\t\\t\\t\\n\\t\\t\\t\\t\\tFinal NPL\\n\\t\\t\\t\\t\\n\\t\\t', 'No ', 'Yes', 'Yes', '\\n\\t\\t\\n\\t\\t\\tYes\\n\\t\\t\\n\\t', '\\n\\t\\t\\n\\t\\t\\tYes\\n\\t\\t\\n\\t '], ['MI0001119106', 'AIRCRAFT COMPONENTS (D & L SALES)', 'BENTON HARBOR', 'BERRIEN', 'MI', '\\n\\t\\t\\t\\n\\t\\t\\t\\t\\tFinal NPL\\n\\t\\t\\t\\t\\n\\t\\t', 'No ', 'Yes', 'No ', '\\n\\t\\t\\n\\t\\t\\tYes\\n\\t\\t\\n\\t', '\\n\\t\\t\\n\\t\\t\\tYes\\n\\t\\t\\n\\t '], ['AL6210020008', 'ALABAMA ARMY AMMUNITION PLANT', 'CHILDERSBURG', 'TALLADEGA', 'AL', '\\n\\t\\t\\t\\n\\t\\t\\t\\t\\tFinal NPL\\n\\t\\t\\t\\t\\n\\t\\t', 'No ', 'No ', 'No ', '\\n\\t\\t\\n\\t\\t\\tInsufficient Data\\n\\t\\t\\n\\t', '\\n\\t\\t\\n\\t\\t\\tYes\\n\\t\\t\\n\\t '], ['ALD004022448', 'ALABAMA PLATING COMPANY, INC.', 'VINCENT', 'SHELBY', 'AL', '\\n\\t\\t\\t\\n\\t\\t\\t\\t\\tFinal NPL\\n\\t\\t\\t\\t\\n\\t\\t', 'No ', 'Yes', 'Yes', '\\n\\t\\t\\n\\t\\t\\tYes\\n\\t\\t\\n\\t', '\\n\\t\\t\\n\\t\\t\\tYes\\n\\t\\t\\n\\t '], ['PAD075993378', 'ALADDIN PLATING', 'SCOTT TOWNSHIP', 'LACKAWANNA', 'PA', '\\n\\t\\t\\t\\n\\t\\t\\t\\t\\tDeleted NPL\\n\\t\\t\\t\\t\\n\\t\\t', 'No ', 'Yes', 'Yes', '\\n\\t\\t\\n\\t\\t\\tYes\\n\\t\\t\\n\\t', '\\n\\t\\t\\n\\t\\t\\tYes\\n\\t\\t\\n\\t '], ['CA2170023236', 'ALAMEDA NAVAL AIR STATION', 'ALAMEDA', 'ALAMEDA', 'CA', '\\n\\t\\t\\t\\n\\t\\t\\t\\t\\tFinal NPL\\n\\t\\t\\t\\t\\n\\t\\t', 'No ', 'No ', 'No ', '\\n\\t\\t\\n\\t\\t\\tYes\\n\\t\\t\\n\\t', '\\n\\t\\t\\n\\t\\t\\tYes\\n\\t\\t\\n\\t '], ['TNN000410203', 'ALAMO CONTAMINATED GROUND WATER', 'ALAMO', 'CROCKETT', 'TN', '\\n\\t\\t\\t\\n\\t\\t\\t\\t\\tFinal NPL\\n\\t\\t\\t\\t\\n\\t\\t', 'No ', 'No ', 'No ', '\\n\\t\\t\\n\\t\\t\\tYes\\n\\t\\t\\n\\t', '\\n\\t\\t\\n\\t\\t\\tYes\\n\\t\\t\\n\\t '], ['FLD012978862', 'ALARIC AREA GW PLUME', 'TAMPA', 'HILLSBOROUGH', 'FL', '\\n\\t\\t\\t\\n\\t\\t\\t\\t\\tFinal NPL\\n\\t\\t\\t\\t\\n\\t\\t', 'No ', 'Yes', 'No ', '\\n\\t\\t\\n\\t\\t\\tYes\\n\\t\\t\\n\\t', '\\n\\t\\t\\n\\t\\t\\tYes\\n\\t\\t\\n\\t '], ['CAD098229214', 'ALARK HARD CHROME', 'RIVERSIDE', 'RIVERSIDE', 'CA', '\\n\\t\\t\\t\\n\\t\\t\\t\\t\\tFinal NPL\\n\\t\\t\\t\\t\\n\\t\\t', 'No ', 'No ', 'No ', '\\n\\t\\t\\n\\t\\t\\tYes\\n\\t\\t\\n\\t', '\\n\\t\\t\\n\\t\\t\\tNo\\n\\t\\t\\n\\t '], ['AKD004904215', 'ALASKA BATTERY ENTERPRISES', 'FAIRBANKS', 'FAIRBANKS NORTH STAR', 'AK', '\\n\\t\\t\\t\\n\\t\\t\\t\\t\\tDeleted NPL\\n\\t\\t\\t\\t\\n\\t\\t', 'No ', 'Yes', 'Yes', '\\n\\t\\t\\n\\t\\t\\tYes\\n\\t\\t\\n\\t', '\\n\\t\\t\\n\\t\\t\\tYes\\n\\t\\t\\n\\t '], ['AKD980983241', 'ALASKA RAILROAD ANCHORAGE YARD', 'ANCHORAGE', 'ANCHORAGE', 'AK', '\\n\\t\\t\\t\\n\\t\\t\\t\\t\\tNot NPL\\n\\t\\t\\t\\t\\n\\t\\t', 'Yes', 'No ', 'No ', '\\n\\t\\t\\n\\t\\t\\tYes\\n\\t\\t\\n\\t', '\\n\\t\\t\\n\\t\\t\\tInsufficient Data\\n\\t\\t\\n\\t '], ['MID980504450', 'ALBION-SHERIDAN TOWNSHIP LANDFILL', 'ALBION', 'CALHOUN', 'MI', '\\n\\t\\t\\t\\n\\t\\t\\t\\t\\tFinal NPL\\n\\t\\t\\t\\t\\n\\t\\t', 'No ', 'Yes', 'Yes', '\\n\\t\\t\\n\\t\\t\\tYes\\n\\t\\t\\n\\t', '\\n\\t\\t\\n\\t\\t\\tYes\\n\\t\\t\\n\\t ']]\n"
     ]
    }
   ],
   "source": [
    "print(testFirstTable)"
   ]
  },
  {
   "cell_type": "code",
   "execution_count": 36,
   "id": "12e5e19c-f4f4-4ece-a07d-23ae385833df",
   "metadata": {},
   "outputs": [],
   "source": [
    "# Test\n",
    "# await go_to_next_page()"
   ]
  },
  {
   "cell_type": "markdown",
   "id": "505f380b-25d6-49f2-99ff-e388a74119d3",
   "metadata": {},
   "source": [
    "#### Test loop to get pages 1, 2, 3\n",
    "(navigate to page 1 happens above)\n",
    "1. call get_table_text to capture 1st page\n",
    "2. call go_to_next_page for 2nd page --> gets us up to 51\n",
    "3. call get_table_text to capture 2nd page\n",
    "4. call go_to_next_page for 3rd page --> gets us up to 101\n",
    "5. call get_table_text to capture 3rd page\n",
    "\n",
    "So while loop should be for < 101"
   ]
  },
  {
   "cell_type": "code",
   "execution_count": 48,
   "id": "f9eea04c-caa7-4f43-b5a1-2bad43b47775",
   "metadata": {},
   "outputs": [
    {
     "name": "stdout",
     "output_type": "stream",
     "text": [
      "just got table text after navigating to: 51\n",
      "just got table text after navigating to: 101\n"
     ]
    }
   ],
   "source": [
    "# get first table text\n",
    "await get_table_text()\n",
    "# enter into loop\n",
    "while state[\"test_page_counter\"] < 101:\n",
    "    await go_to_next_page()\n",
    "    await get_table_text()\n",
    "    print('just got table text after navigating to:', state[\"test_page_counter\"])"
   ]
  },
  {
   "cell_type": "code",
   "execution_count": 49,
   "id": "95aa5076-40f1-40b1-825e-737562a5be71",
   "metadata": {},
   "outputs": [
    {
     "name": "stdout",
     "output_type": "stream",
     "text": [
      "150\n"
     ]
    }
   ],
   "source": [
    "print(len(testTableText))"
   ]
  },
  {
   "cell_type": "code",
   "execution_count": 50,
   "id": "91ba67ce-271e-40d8-b13e-38a9f80e73a9",
   "metadata": {},
   "outputs": [
    {
     "name": "stdout",
     "output_type": "stream",
     "text": [
      "[['NED981713837', '10TH STREET SITE', 'COLUMBUS', 'PLATTE', 'NE', '\\n\\t\\t\\t\\n\\t\\t\\t\\t\\tFinal NPL\\n\\t\\t\\t\\t\\n\\t\\t', 'No ', 'Yes', 'Yes', '\\n\\t\\t\\n\\t\\t\\tYes\\n\\t\\t\\n\\t', '\\n\\t\\t\\n\\t\\t\\tYes\\n\\t\\t\\n\\t '], ['KSD007241656', '29TH & MEAD GROUND WATER CONTAMINATION', 'WICHITA', 'SEDGWICK', 'KS', '\\n\\t\\t\\t\\n\\t\\t\\t\\t\\tDeleted NPL\\n\\t\\t\\t\\t\\n\\t\\t', 'No ', 'No ', 'No ', '\\n\\t\\t\\n\\t\\t\\tYes\\n\\t\\t\\n\\t', '\\n\\t\\t\\n\\t\\t\\tYes\\n\\t\\t\\n\\t '], ['ALN000410750', '35TH AVENUE', 'BIRMINGHAM', 'JEFFERSON', 'AL', '\\n\\t\\t\\t\\n\\t\\t\\t\\t\\tProposed NPL\\n\\t\\t\\t\\t\\n\\t\\t', 'No ', 'No ', 'No ', '\\n\\t\\t\\n\\t\\t\\t\\tStatus Unavailable\\n\\t\\t\\t\\n\\t', '\\n\\t\\t\\n\\t\\t\\t\\tStatus Unavailable\\n\\t\\t\\t\\n\\t '], ['KSD981710247', '57TH AND NORTH BROADWAY STREETS SITE', 'WICHITA', 'SEDGWICK', 'KS', '\\n\\t\\t\\t\\n\\t\\t\\t\\t\\tFinal NPL\\n\\t\\t\\t\\t\\n\\t\\t', 'No ', 'Yes', 'No ', '\\n\\t\\t\\n\\t\\t\\tYes\\n\\t\\t\\n\\t', '\\n\\t\\t\\n\\t\\t\\tNo\\n\\t\\t\\n\\t '], ['MDD980918387', '68TH STREET DUMP/INDUSTRIAL ENTERPRISES', 'ROSEDALE', 'BALTIMORE', 'MD', '\\n\\t\\t\\t\\n\\t\\t\\t\\t\\tProposed NPL\\n\\t\\t\\t\\t\\n\\t\\t', 'Yes', 'No ', 'No ', '\\n\\t\\t\\n\\t\\t\\tYes\\n\\t\\t\\n\\t', '\\n\\t\\t\\n\\t\\t\\tYes\\n\\t\\t\\n\\t '], ['UTD981548985', '700 SOUTH 1600 EAST PCE PLUME', 'SALT LAKE CITY', 'SALT LAKE', 'UT', '\\n\\t\\t\\t\\n\\t\\t\\t\\t\\tFinal NPL\\n\\t\\t\\t\\t\\n\\t\\t', 'No ', 'No ', 'No ', '\\n\\t\\t\\n\\t\\t\\tNo\\n\\t\\t\\n\\t', '\\n\\t\\t\\n\\t\\t\\tInsufficient Data\\n\\t\\t\\n\\t '], ['ILD980397079', 'A & F MATERIAL RECLAIMING, INC.', 'GREENUP', 'CUMBERLAND', 'IL', '\\n\\t\\t\\t\\n\\t\\t\\t\\t\\tDeleted NPL\\n\\t\\t\\t\\t\\n\\t\\t', 'No ', 'Yes', 'Yes', '\\n\\t\\t\\n\\t\\t\\tYes\\n\\t\\t\\n\\t', '\\n\\t\\t\\n\\t\\t\\tYes\\n\\t\\t\\n\\t '], ['NJD030253355', 'A. O. POLYMER', 'SPARTA TOWNSHIP', 'SUSSEX', 'NJ', '\\n\\t\\t\\t\\n\\t\\t\\t\\t\\tFinal NPL\\n\\t\\t\\t\\t\\n\\t\\t', 'No ', 'Yes', 'Yes', '\\n\\t\\t\\n\\t\\t\\tYes\\n\\t\\t\\n\\t', '\\n\\t\\t\\n\\t\\t\\tYes\\n\\t\\t\\n\\t '], ['PAD004351003', 'A.I.W. FRANK/MID-COUNTY MUSTANG', 'EXTON', 'CHESTER', 'PA', '\\n\\t\\t\\t\\n\\t\\t\\t\\t\\tFinal NPL\\n\\t\\t\\t\\t\\n\\t\\t', 'No ', 'Yes', 'Yes', '\\n\\t\\t\\n\\t\\t\\tYes\\n\\t\\t\\n\\t', '\\n\\t\\t\\n\\t\\t\\tYes\\n\\t\\t\\n\\t '], ['KYD980500961', 'A.L. TAYLOR (VALLEY OF DRUMS)', 'BROOKS', 'BULLITT', 'KY', '\\n\\t\\t\\t\\n\\t\\t\\t\\t\\tDeleted NPL\\n\\t\\t\\t\\t\\n\\t\\t', 'No ', 'Yes', 'No ', '\\n\\t\\t\\n\\t\\t\\tYes\\n\\t\\t\\n\\t', '\\n\\t\\t\\n\\t\\t\\tYes\\n\\t\\t\\n\\t '], ['NCD024644494', 'ABC ONE HOUR CLEANERS', 'JACKSONVILLE', 'ONSLOW', 'NC', '\\n\\t\\t\\t\\n\\t\\t\\t\\t\\tFinal NPL\\n\\t\\t\\t\\t\\n\\t\\t', 'No ', 'Yes', 'No ', '\\n\\t\\t\\n\\t\\t\\tYes\\n\\t\\t\\n\\t', '\\n\\t\\t\\n\\t\\t\\tYes\\n\\t\\t\\n\\t '], ['NCN000407447', 'ABERDEEN CONTAMINATED GROUND WATER', 'ABERDEEN', 'MOORE', 'NC', '\\n\\t\\t\\t\\n\\t\\t\\t\\t\\tFinal NPL\\n\\t\\t\\t\\t\\n\\t\\t', 'No ', 'No ', 'No ', '\\n\\t\\t\\n\\t\\t\\tNo\\n\\t\\t\\n\\t', '\\n\\t\\t\\n\\t\\t\\tNo\\n\\t\\t\\n\\t '], ['NCD980843346', 'ABERDEEN PESTICIDE DUMPS', 'ABERDEEN', 'MOORE', 'NC', '\\n\\t\\t\\t\\n\\t\\t\\t\\t\\tFinal NPL\\n\\t\\t\\t\\t\\n\\t\\t', 'No ', 'Yes', 'Yes', '\\n\\t\\t\\n\\t\\t\\tYes\\n\\t\\t\\n\\t', '\\n\\t\\t\\n\\t\\t\\tYes\\n\\t\\t\\n\\t '], ['MD2210020036', 'ABERDEEN PROVING GROUND (EDGEWOOD AREA)', 'EDGEWOOD', 'HARFORD', 'MD', '\\n\\t\\t\\t\\n\\t\\t\\t\\t\\tFinal NPL\\n\\t\\t\\t\\t\\n\\t\\t', 'No ', 'No ', 'No ', '\\n\\t\\t\\n\\t\\t\\tYes\\n\\t\\t\\n\\t', '\\n\\t\\t\\n\\t\\t\\tInsufficient Data\\n\\t\\t\\n\\t '], ['MD3210021355', 'ABERDEEN PROVING GROUND (MICHAELSVILLE LANDFILL)', 'ABERDEEN', 'HARFORD', 'MD', '\\n\\t\\t\\t\\n\\t\\t\\t\\t\\tFinal NPL\\n\\t\\t\\t\\t\\n\\t\\t', 'No ', 'Yes', 'No ', '\\n\\t\\t\\n\\t\\t\\tYes\\n\\t\\t\\n\\t', '\\n\\t\\t\\n\\t\\t\\tInsufficient Data\\n\\t\\t\\n\\t '], ['VAD980551683', 'ABEX CORP.', 'PORTSMOUTH', 'PORTSMOUTH CITY', 'VA', '\\n\\t\\t\\t\\n\\t\\t\\t\\t\\tFinal NPL\\n\\t\\t\\t\\t\\n\\t\\t', 'No ', 'Yes', 'Yes', '\\n\\t\\t\\n\\t\\t\\tYes\\n\\t\\t\\n\\t', '\\n\\t\\t\\n\\t\\t\\tYes\\n\\t\\t\\n\\t '], ['KSD046746731', 'ACE SERVICES', 'COLBY', 'THOMAS', 'KS', '\\n\\t\\t\\t\\n\\t\\t\\t\\t\\tFinal NPL\\n\\t\\t\\t\\t\\n\\t\\t', 'No ', 'Yes', 'Yes', '\\n\\t\\t\\n\\t\\t\\tYes\\n\\t\\t\\n\\t', '\\n\\t\\t\\n\\t\\t\\tYes\\n\\t\\t\\n\\t '], ['MTD093291599', 'ACM SMELTER AND REFINERY', 'BLACK EAGLE', 'CASCADE', 'MT', '\\n\\t\\t\\t\\n\\t\\t\\t\\t\\tFinal NPL\\n\\t\\t\\t\\t\\n\\t\\t', 'No ', 'No ', 'No ', '\\n\\t\\t\\n\\t\\t\\tNo\\n\\t\\t\\n\\t', '\\n\\t\\t\\n\\t\\t\\tInsufficient Data\\n\\t\\t\\n\\t '], ['ILD053219259', 'ACME SOLVENT RECLAIMING, INC. (MORRISTOWN PLANT)', 'MORRISTOWN', 'WINNEBAGO', 'IL', '\\n\\t\\t\\t\\n\\t\\t\\t\\t\\tFinal NPL\\n\\t\\t\\t\\t\\n\\t\\t', 'No ', 'Yes', 'No ', '\\n\\t\\t\\n\\t\\t\\tYes\\n\\t\\t\\n\\t', '\\n\\t\\t\\n\\t\\t\\tYes\\n\\t\\t\\n\\t '], ['ILN000509241', 'ACME STEEL COKE PLANT', 'CHICAGO', 'COOK', 'IL', '\\n\\t\\t\\t\\n\\t\\t\\t\\t\\tFinal NPL\\n\\t\\t\\t\\t\\n\\t\\t', 'No ', 'No ', 'No ', '\\n\\t\\t\\n\\t\\t\\tInsufficient Data\\n\\t\\t\\n\\t', '\\n\\t\\t\\n\\t\\t\\tInsufficient Data\\n\\t\\t\\n\\t '], ['NYD072366453', 'ACTION ANODIZING, PLATING, & POLISHING CORP.', 'COPIAGUE', 'SUFFOLK', 'NY', '\\n\\t\\t\\t\\n\\t\\t\\t\\t\\tDeleted NPL\\n\\t\\t\\t\\t\\n\\t\\t', 'No ', 'Yes', 'Yes', '\\n\\t\\t\\n\\t\\t\\tYes\\n\\t\\t\\n\\t', '\\n\\t\\t\\n\\t\\t\\tYes\\n\\t\\t\\n\\t '], ['AK4170024323', 'ADAK NAVAL AIR STATION', 'ADAK', '[Blank County]', 'AK', '\\n\\t\\t\\t\\n\\t\\t\\t\\t\\tFinal NPL\\n\\t\\t\\t\\t\\n\\t\\t', 'No ', 'No ', 'No ', '\\n\\t\\t\\n\\t\\t\\tYes\\n\\t\\t\\n\\t', '\\n\\t\\t\\n\\t\\t\\tYes\\n\\t\\t\\n\\t '], ['MID006522791', \"ADAM'S PLATING\", 'LANSING', 'INGHAM', 'MI', '\\n\\t\\t\\t\\n\\t\\t\\t\\t\\tFinal NPL\\n\\t\\t\\t\\t\\n\\t\\t', 'No ', 'Yes', 'No ', '\\n\\t\\t\\n\\t\\t\\tNo\\n\\t\\t\\n\\t', '\\n\\t\\t\\n\\t\\t\\tInsufficient Data\\n\\t\\t\\n\\t '], ['ILD980607055', 'ADAMS COUNTY QUINCY LANDFILLS 2&3', 'QUINCY', 'ADAMS', 'IL', '\\n\\t\\t\\t\\n\\t\\t\\t\\t\\tFinal NPL\\n\\t\\t\\t\\t\\n\\t\\t', 'No ', 'Yes', 'No ', '\\n\\t\\t\\n\\t\\t\\tInsufficient Data\\n\\t\\t\\n\\t', '\\n\\t\\t\\n\\t\\t\\tInsufficient Data\\n\\t\\t\\n\\t '], ['SCD047563614', 'ADMIRAL HOME APPLIANCES', 'WILLISTON', 'BARNWELL', 'SC', '\\n\\t\\t\\t\\n\\t\\t\\t\\t\\tNot NPL\\n\\t\\t\\t\\t\\n\\t\\t', 'Yes', 'Yes', 'No ', '\\n\\t\\t\\n\\t\\t\\tYes\\n\\t\\t\\n\\t', '\\n\\t\\t\\n\\t\\t\\tYes\\n\\t\\t\\n\\t '], ['MND980904023', 'ADRIAN MUNICIPAL WELL FIELD', 'ADRIAN', 'NOBLES', 'MN', '\\n\\t\\t\\t\\n\\t\\t\\t\\t\\tDeleted NPL\\n\\t\\t\\t\\t\\n\\t\\t', 'No ', 'Yes', 'No ', '\\n\\t\\t\\n\\t\\t\\tYes\\n\\t\\t\\n\\t', '\\n\\t\\t\\n\\t\\t\\tYes\\n\\t\\t\\n\\t '], ['CAD048634059', 'ADVANCED MICRO DEVICES, INC.', 'SUNNYVALE', 'SANTA CLARA', 'CA', '\\n\\t\\t\\t\\n\\t\\t\\t\\t\\tFinal NPL\\n\\t\\t\\t\\t\\n\\t\\t', 'No ', 'Yes', 'No ', '\\n\\t\\t\\n\\t\\t\\tYes\\n\\t\\t\\n\\t', '\\n\\t\\t\\n\\t\\t\\tYes\\n\\t\\t\\n\\t '], ['CAT080034234', 'ADVANCED MICRO DEVICES, INC. (BUILDING 915)', 'SUNNYVALE', 'SANTA CLARA', 'CA', '\\n\\t\\t\\t\\n\\t\\t\\t\\t\\tFinal NPL\\n\\t\\t\\t\\t\\n\\t\\t', 'No ', 'Yes', 'Yes', '\\n\\t\\t\\n\\t\\t\\tYes\\n\\t\\t\\n\\t', '\\n\\t\\t\\n\\t\\t\\tYes\\n\\t\\t\\n\\t '], ['CAD980358832', 'AEROJET GENERAL CORP.', 'RANCHO CORDOVA', 'SACRAMENTO', 'CA', '\\n\\t\\t\\t\\n\\t\\t\\t\\t\\tFinal NPL\\n\\t\\t\\t\\t\\n\\t\\t', 'No ', 'No ', 'No ', '\\n\\t\\t\\n\\t\\t\\tYes\\n\\t\\t\\n\\t', '\\n\\t\\t\\n\\t\\t\\tNo\\n\\t\\t\\n\\t '], ['CAN000908808', 'AFTERTHOUGHT MINE', 'BELLA VISTA', 'SHASTA', 'CA', '\\n\\t\\t\\t\\n\\t\\t\\t\\t\\tFinal NPL\\n\\t\\t\\t\\t\\n\\t\\t', 'No ', 'No ', 'No ', '\\n\\t\\t\\n\\t\\t\\t\\tNot yet designated\\n\\t\\t\\t\\n\\t', '\\n\\t\\t\\n\\t\\t\\t\\tNot yet designated\\n\\t\\t\\t\\n\\t '], ['MND980898068', 'AGATE LAKE SCRAPYARD', 'FAIRVIEW TOWNSHIP', 'CASS', 'MN', '\\n\\t\\t\\t\\n\\t\\t\\t\\t\\tDeleted NPL\\n\\t\\t\\t\\t\\n\\t\\t', 'No ', 'Yes', 'Yes', '\\n\\t\\t\\n\\t\\t\\tYes\\n\\t\\t\\n\\t', '\\n\\t\\t\\n\\t\\t\\tYes\\n\\t\\t\\n\\t '], ['FLD980221857', 'AGRICO CHEMICAL CO.', 'PENSACOLA', 'ESCAMBIA', 'FL', '\\n\\t\\t\\t\\n\\t\\t\\t\\t\\tFinal NPL\\n\\t\\t\\t\\t\\n\\t\\t', 'No ', 'Yes', 'Yes', '\\n\\t\\t\\n\\t\\t\\tYes\\n\\t\\t\\n\\t', '\\n\\t\\t\\n\\t\\t\\tYes\\n\\t\\t\\n\\t '], ['LAD981056997', 'AGRICULTURE STREET LANDFILL', 'NEW ORLEANS', 'ORLEANS', 'LA', '\\n\\t\\t\\t\\n\\t\\t\\t\\t\\tFinal NPL\\n\\t\\t\\t\\t\\n\\t\\t', 'No ', 'Yes', 'Yes', '\\n\\t\\t\\n\\t\\t\\tYes\\n\\t\\t\\n\\t', '\\n\\t\\t\\n\\t\\t\\tYes\\n\\t\\t\\n\\t '], ['IAD042581256', 'AIDEX CORP.', 'MINEOLA', 'MILLS', 'IA', '\\n\\t\\t\\t\\n\\t\\t\\t\\t\\tDeleted NPL\\n\\t\\t\\t\\t\\n\\t\\t', 'No ', 'Yes', 'Yes', '\\n\\t\\t\\n\\t\\t\\tYes\\n\\t\\t\\n\\t', '\\n\\t\\t\\n\\t\\t\\tYes\\n\\t\\t\\n\\t '], ['TX7572024605', 'AIR FORCE PLANT #4 (GENERAL DYNAMICS)', 'FORT WORTH', 'TARRANT', 'TX', '\\n\\t\\t\\t\\n\\t\\t\\t\\t\\tFinal NPL\\n\\t\\t\\t\\t\\n\\t\\t', 'No ', 'Yes', 'No ', '\\n\\t\\t\\n\\t\\t\\tInsufficient Data\\n\\t\\t\\n\\t', '\\n\\t\\t\\n\\t\\t\\tYes\\n\\t\\t\\n\\t '], ['OH1170090004', 'AIR FORCE PLANT 85', 'COLUMBUS', 'FRANKLIN', 'OH', '\\n\\t\\t\\t\\n\\t\\t\\t\\t\\tProposed NPL\\n\\t\\t\\t\\t\\n\\t\\t', 'No ', 'No ', 'No ', '\\n\\t\\t\\n\\t\\t\\tYes\\n\\t\\t\\n\\t', '\\n\\t\\t\\n\\t\\t\\tYes\\n\\t\\t\\n\\t '], ['CO7570090038', 'AIR FORCE PLANT PJKS', 'LITTLETON', 'JEFFERSON', 'CO', '\\n\\t\\t\\t\\n\\t\\t\\t\\t\\tFinal NPL\\n\\t\\t\\t\\t\\n\\t\\t', 'No ', 'Yes', 'No ', '\\n\\t\\t\\n\\t\\t\\tInsufficient Data\\n\\t\\t\\n\\t', '\\n\\t\\t\\n\\t\\t\\tInsufficient Data\\n\\t\\t\\n\\t '], ['KYD041981010', 'AIRCO', 'CALVERT CITY', 'MARSHALL', 'KY', '\\n\\t\\t\\t\\n\\t\\t\\t\\t\\tDeleted NPL\\n\\t\\t\\t\\t\\n\\t\\t', 'No ', 'Yes', 'Yes', '\\n\\t\\t\\n\\t\\t\\tYes\\n\\t\\t\\n\\t', '\\n\\t\\t\\n\\t\\t\\tYes\\n\\t\\t\\n\\t '], ['FLD004145140', 'AIRCO PLATING CO.', 'MIAMI', 'MIAMI-DADE', 'FL', '\\n\\t\\t\\t\\n\\t\\t\\t\\t\\tFinal NPL\\n\\t\\t\\t\\t\\n\\t\\t', 'No ', 'Yes', 'Yes', '\\n\\t\\t\\n\\t\\t\\tYes\\n\\t\\t\\n\\t', '\\n\\t\\t\\n\\t\\t\\tYes\\n\\t\\t\\n\\t '], ['MI0001119106', 'AIRCRAFT COMPONENTS (D & L SALES)', 'BENTON HARBOR', 'BERRIEN', 'MI', '\\n\\t\\t\\t\\n\\t\\t\\t\\t\\tFinal NPL\\n\\t\\t\\t\\t\\n\\t\\t', 'No ', 'Yes', 'No ', '\\n\\t\\t\\n\\t\\t\\tYes\\n\\t\\t\\n\\t', '\\n\\t\\t\\n\\t\\t\\tYes\\n\\t\\t\\n\\t '], ['AL6210020008', 'ALABAMA ARMY AMMUNITION PLANT', 'CHILDERSBURG', 'TALLADEGA', 'AL', '\\n\\t\\t\\t\\n\\t\\t\\t\\t\\tFinal NPL\\n\\t\\t\\t\\t\\n\\t\\t', 'No ', 'No ', 'No ', '\\n\\t\\t\\n\\t\\t\\tInsufficient Data\\n\\t\\t\\n\\t', '\\n\\t\\t\\n\\t\\t\\tYes\\n\\t\\t\\n\\t '], ['ALD004022448', 'ALABAMA PLATING COMPANY, INC.', 'VINCENT', 'SHELBY', 'AL', '\\n\\t\\t\\t\\n\\t\\t\\t\\t\\tFinal NPL\\n\\t\\t\\t\\t\\n\\t\\t', 'No ', 'Yes', 'Yes', '\\n\\t\\t\\n\\t\\t\\tYes\\n\\t\\t\\n\\t', '\\n\\t\\t\\n\\t\\t\\tYes\\n\\t\\t\\n\\t '], ['PAD075993378', 'ALADDIN PLATING', 'SCOTT TOWNSHIP', 'LACKAWANNA', 'PA', '\\n\\t\\t\\t\\n\\t\\t\\t\\t\\tDeleted NPL\\n\\t\\t\\t\\t\\n\\t\\t', 'No ', 'Yes', 'Yes', '\\n\\t\\t\\n\\t\\t\\tYes\\n\\t\\t\\n\\t', '\\n\\t\\t\\n\\t\\t\\tYes\\n\\t\\t\\n\\t '], ['CA2170023236', 'ALAMEDA NAVAL AIR STATION', 'ALAMEDA', 'ALAMEDA', 'CA', '\\n\\t\\t\\t\\n\\t\\t\\t\\t\\tFinal NPL\\n\\t\\t\\t\\t\\n\\t\\t', 'No ', 'No ', 'No ', '\\n\\t\\t\\n\\t\\t\\tYes\\n\\t\\t\\n\\t', '\\n\\t\\t\\n\\t\\t\\tYes\\n\\t\\t\\n\\t '], ['TNN000410203', 'ALAMO CONTAMINATED GROUND WATER', 'ALAMO', 'CROCKETT', 'TN', '\\n\\t\\t\\t\\n\\t\\t\\t\\t\\tFinal NPL\\n\\t\\t\\t\\t\\n\\t\\t', 'No ', 'No ', 'No ', '\\n\\t\\t\\n\\t\\t\\tYes\\n\\t\\t\\n\\t', '\\n\\t\\t\\n\\t\\t\\tYes\\n\\t\\t\\n\\t '], ['FLD012978862', 'ALARIC AREA GW PLUME', 'TAMPA', 'HILLSBOROUGH', 'FL', '\\n\\t\\t\\t\\n\\t\\t\\t\\t\\tFinal NPL\\n\\t\\t\\t\\t\\n\\t\\t', 'No ', 'Yes', 'No ', '\\n\\t\\t\\n\\t\\t\\tYes\\n\\t\\t\\n\\t', '\\n\\t\\t\\n\\t\\t\\tYes\\n\\t\\t\\n\\t '], ['CAD098229214', 'ALARK HARD CHROME', 'RIVERSIDE', 'RIVERSIDE', 'CA', '\\n\\t\\t\\t\\n\\t\\t\\t\\t\\tFinal NPL\\n\\t\\t\\t\\t\\n\\t\\t', 'No ', 'No ', 'No ', '\\n\\t\\t\\n\\t\\t\\tYes\\n\\t\\t\\n\\t', '\\n\\t\\t\\n\\t\\t\\tNo\\n\\t\\t\\n\\t '], ['AKD004904215', 'ALASKA BATTERY ENTERPRISES', 'FAIRBANKS', 'FAIRBANKS NORTH STAR', 'AK', '\\n\\t\\t\\t\\n\\t\\t\\t\\t\\tDeleted NPL\\n\\t\\t\\t\\t\\n\\t\\t', 'No ', 'Yes', 'Yes', '\\n\\t\\t\\n\\t\\t\\tYes\\n\\t\\t\\n\\t', '\\n\\t\\t\\n\\t\\t\\tYes\\n\\t\\t\\n\\t '], ['AKD980983241', 'ALASKA RAILROAD ANCHORAGE YARD', 'ANCHORAGE', 'ANCHORAGE', 'AK', '\\n\\t\\t\\t\\n\\t\\t\\t\\t\\tNot NPL\\n\\t\\t\\t\\t\\n\\t\\t', 'Yes', 'No ', 'No ', '\\n\\t\\t\\n\\t\\t\\tYes\\n\\t\\t\\n\\t', '\\n\\t\\t\\n\\t\\t\\tInsufficient Data\\n\\t\\t\\n\\t '], ['MID980504450', 'ALBION-SHERIDAN TOWNSHIP LANDFILL', 'ALBION', 'CALHOUN', 'MI', '\\n\\t\\t\\t\\n\\t\\t\\t\\t\\tFinal NPL\\n\\t\\t\\t\\t\\n\\t\\t', 'No ', 'Yes', 'Yes', '\\n\\t\\t\\n\\t\\t\\tYes\\n\\t\\t\\n\\t', '\\n\\t\\t\\n\\t\\t\\tYes\\n\\t\\t\\n\\t '], ['TXD008123168', 'ALCOA (POINT COMFORT)/LAVACA BAY', 'POINT COMFORT', 'CALHOUN', 'TX', '\\n\\t\\t\\t\\n\\t\\t\\t\\t\\tFinal NPL\\n\\t\\t\\t\\t\\n\\t\\t', 'No ', 'Yes', 'Yes', '\\n\\t\\t\\n\\t\\t\\tYes\\n\\t\\t\\n\\t', '\\n\\t\\t\\n\\t\\t\\tYes\\n\\t\\t\\n\\t '], ['WAD009045279', 'ALCOA (VANCOUVER SMELTER)', 'VANCOUVER', 'CLARK', 'WA', '\\n\\t\\t\\t\\n\\t\\t\\t\\t\\tDeleted NPL\\n\\t\\t\\t\\t\\n\\t\\t', 'No ', 'Yes', 'Yes', '\\n\\t\\t\\n\\t\\t\\tYes\\n\\t\\t\\n\\t', '\\n\\t\\t\\n\\t\\t\\tNo\\n\\t\\t\\n\\t '], ['ILSFN0508010', 'ALCOA PROPERTIES', 'EAST ST. LOUIS', 'ST. CLAIR', 'IL', '\\n\\t\\t\\t\\n\\t\\t\\t\\t\\tNot NPL\\n\\t\\t\\t\\t\\n\\t\\t', 'Yes', 'No ', 'No ', '\\n\\t\\t\\n\\t\\t\\tNo\\n\\t\\t\\n\\t', '\\n\\t\\t\\n\\t\\t\\tInsufficient Data\\n\\t\\t\\n\\t '], ['WID980610380', 'ALGOMA MUNICIPAL LANDFILL', 'ALGOMA', 'KEWAUNEE', 'WI', '\\n\\t\\t\\t\\n\\t\\t\\t\\t\\tFinal NPL\\n\\t\\t\\t\\t\\n\\t\\t', 'No ', 'Yes', 'Yes', '\\n\\t\\t\\n\\t\\t\\tYes\\n\\t\\t\\n\\t', '\\n\\t\\t\\n\\t\\t\\tYes\\n\\t\\t\\n\\t '], ['ORD980511497', 'ALKALI LAKE SITE', 'LAKE COUNTY', 'LAKE', 'OR', '\\n\\t\\t\\t\\n\\t\\t\\t\\t\\tNot NPL\\n\\t\\t\\t\\t\\n\\t\\t', 'Yes', 'No ', 'No ', '\\n\\t\\t\\n\\t\\t\\tInsufficient Data\\n\\t\\t\\n\\t', '\\n\\t\\t\\n\\t\\t\\tInsufficient Data\\n\\t\\t\\n\\t '], ['WV0170023691', 'ALLEGANY BALLISTICS LABORATORY (USNAVY)', 'MINERAL COUNTY', 'MINERAL', 'WV', '\\n\\t\\t\\t\\n\\t\\t\\t\\t\\tFinal NPL\\n\\t\\t\\t\\t\\n\\t\\t', 'No ', 'No ', 'No ', '\\n\\t\\t\\n\\t\\t\\tYes\\n\\t\\t\\n\\t', '\\n\\t\\t\\n\\t\\t\\tInsufficient Data\\n\\t\\t\\n\\t '], ['OHD043730217', 'ALLIED CHEMICAL & IRONTON COKE', 'IRONTON', 'LAWRENCE', 'OH', '\\n\\t\\t\\t\\n\\t\\t\\t\\t\\tFinal NPL\\n\\t\\t\\t\\t\\n\\t\\t', 'No ', 'Yes', 'Yes', '\\n\\t\\t\\n\\t\\t\\tYes\\n\\t\\t\\n\\t', '\\n\\t\\t\\n\\t\\t\\tNo\\n\\t\\t\\n\\t '], ['MID006007306', 'ALLIED PAPER, INC./PORTAGE CREEK/KALAMAZOO RIVER', 'KALAMAZOO', 'KALAMAZOO', 'MI', '\\n\\t\\t\\t\\n\\t\\t\\t\\t\\tFinal NPL\\n\\t\\t\\t\\t\\n\\t\\t', 'No ', 'No ', 'No ', '\\n\\t\\t\\n\\t\\t\\tNo\\n\\t\\t\\n\\t', '\\n\\t\\t\\n\\t\\t\\tYes\\n\\t\\t\\n\\t '], ['ORD009051442', 'ALLIED PLATING, INC.', 'PORTLAND', 'MULTNOMAH', 'OR', '\\n\\t\\t\\t\\n\\t\\t\\t\\t\\tDeleted NPL\\n\\t\\t\\t\\t\\n\\t\\t', 'No ', 'Yes', 'Yes', '\\n\\t\\t\\n\\t\\t\\tYes\\n\\t\\t\\n\\t', '\\n\\t\\t\\n\\t\\t\\tYes\\n\\t\\t\\n\\t '], ['FLD041495441', 'ALPHA CHEMICAL CORP.', 'LAKELAND', 'POLK', 'FL', '\\n\\t\\t\\t\\n\\t\\t\\t\\t\\tDeleted NPL\\n\\t\\t\\t\\t\\n\\t\\t', 'No ', 'Yes', 'Yes', '\\n\\t\\t\\n\\t\\t\\tYes\\n\\t\\t\\n\\t', '\\n\\t\\t\\n\\t\\t\\tYes\\n\\t\\t\\n\\t '], ['OHD057243610', 'ALSCO ANACONDA', 'GNADENHUTTEN', 'TUSCARAWAS', 'OH', '\\n\\t\\t\\t\\n\\t\\t\\t\\t\\tDeleted NPL\\n\\t\\t\\t\\t\\n\\t\\t', 'No ', 'Yes', 'Yes', '\\n\\t\\t\\n\\t\\t\\tYes\\n\\t\\t\\n\\t', '\\n\\t\\t\\n\\t\\t\\tYes\\n\\t\\t\\n\\t '], ['GAD033582461', 'ALTERNATE ENERGY RESOURCES INC', 'AUGUSTA', 'RICHMOND', 'GA', '\\n\\t\\t\\t\\n\\t\\t\\t\\t\\tFinal NPL\\n\\t\\t\\t\\t\\n\\t\\t', 'No ', 'Yes', 'No ', '\\n\\t\\t\\n\\t\\t\\tYes\\n\\t\\t\\n\\t', '\\n\\t\\t\\n\\t\\t\\tYes\\n\\t\\t\\n\\t '], ['PAD000436436', 'AMBLER ASBESTOS PILES', 'AMBLER', 'MONTGOMERY', 'PA', '\\n\\t\\t\\t\\n\\t\\t\\t\\t\\tDeleted NPL\\n\\t\\t\\t\\t\\n\\t\\t', 'No ', 'Yes', 'Yes', '\\n\\t\\t\\n\\t\\t\\tYes\\n\\t\\t\\n\\t', '\\n\\t\\t\\n\\t\\t\\tNot a Groundwater Site\\n\\t\\t\\n\\t '], ['WIN000510210', 'AMCAST INDUSTRIAL CORPORATION', 'CEDARBURG', 'OZAUKEE', 'WI', '\\n\\t\\t\\t\\n\\t\\t\\t\\t\\tFinal NPL\\n\\t\\t\\t\\t\\n\\t\\t', 'No ', 'No ', 'No ', '\\n\\t\\t\\n\\t\\t\\tNo\\n\\t\\t\\n\\t', '\\n\\t\\t\\n\\t\\t\\tInsufficient Data\\n\\t\\t\\n\\t '], ['CA0001576081', 'AMCO CHEMICAL', 'OAKLAND', 'ALAMEDA', 'CA', '\\n\\t\\t\\t\\n\\t\\t\\t\\t\\tFinal NPL\\n\\t\\t\\t\\t\\n\\t\\t', 'No ', 'No ', 'No ', '\\n\\t\\t\\n\\t\\t\\tYes\\n\\t\\t\\n\\t', '\\n\\t\\t\\n\\t\\t\\tNo\\n\\t\\t\\n\\t '], ['MID006029102', 'AMERICAN ANODCO, INC.', 'IONIA', 'IONIA', 'MI', '\\n\\t\\t\\t\\n\\t\\t\\t\\t\\tFinal NPL\\n\\t\\t\\t\\t\\n\\t\\t', 'No ', 'Yes', 'Yes', '\\n\\t\\t\\n\\t\\t\\tYes\\n\\t\\t\\n\\t', '\\n\\t\\t\\n\\t\\t\\tYes\\n\\t\\t\\n\\t '], ['ALD981868466', 'AMERICAN BRASS INC.', 'HEADLAND', 'HENRY', 'AL', '\\n\\t\\t\\t\\n\\t\\t\\t\\t\\tFinal NPL\\n\\t\\t\\t\\t\\n\\t\\t', 'No ', 'Yes', 'Yes', '\\n\\t\\t\\n\\t\\t\\tYes\\n\\t\\t\\n\\t', '\\n\\t\\t\\n\\t\\t\\tYes\\n\\t\\t\\n\\t '], ['IND016360265', 'AMERICAN CHEMICAL SERVICE, INC.', 'GRIFFITH', 'LAKE', 'IN', '\\n\\t\\t\\t\\n\\t\\t\\t\\t\\tFinal NPL\\n\\t\\t\\t\\t\\n\\t\\t', 'No ', 'Yes', 'Yes', '\\n\\t\\t\\n\\t\\t\\tYes\\n\\t\\t\\n\\t', '\\n\\t\\t\\n\\t\\t\\tYes\\n\\t\\t\\n\\t '], ['LAN000604293', 'AMERICAN CREOSOTE DERIDDER', 'DERIDDER', 'BEAUREGARD', 'LA', '\\n\\t\\t\\t\\n\\t\\t\\t\\t\\tFinal NPL\\n\\t\\t\\t\\t\\n\\t\\t', 'No ', 'No ', 'No ', '\\n\\t\\t\\n\\t\\t\\tNo\\n\\t\\t\\n\\t', '\\n\\t\\t\\n\\t\\t\\tYes\\n\\t\\t\\n\\t '], ['MSD004006995', 'AMERICAN CREOSOTE WORKS INC (LOUISVILLE)', 'LOUISVILLE', 'WINSTON', 'MS', '\\n\\t\\t\\t\\n\\t\\t\\t\\t\\tFinal NPL\\n\\t\\t\\t\\t\\n\\t\\t', 'No ', 'Yes', 'Yes', '\\n\\t\\t\\n\\t\\t\\tYes\\n\\t\\t\\n\\t', '\\n\\t\\t\\n\\t\\t\\tYes\\n\\t\\t\\n\\t '], ['TND007018799', 'AMERICAN CREOSOTE WORKS, INC. (JACKSON PLANT)', 'JACKSON', 'MADISON', 'TN', '\\n\\t\\t\\t\\n\\t\\t\\t\\t\\tFinal NPL\\n\\t\\t\\t\\t\\n\\t\\t', 'No ', 'Yes', 'No ', '\\n\\t\\t\\n\\t\\t\\tYes\\n\\t\\t\\n\\t', '\\n\\t\\t\\n\\t\\t\\tNo\\n\\t\\t\\n\\t '], ['FLD008161994', 'AMERICAN CREOSOTE WORKS, INC. (PENSACOLA PLANT)', 'PENSACOLA', 'ESCAMBIA', 'FL', '\\n\\t\\t\\t\\n\\t\\t\\t\\t\\tFinal NPL\\n\\t\\t\\t\\t\\n\\t\\t', 'No ', 'No ', 'No ', '\\n\\t\\t\\n\\t\\t\\tNo\\n\\t\\t\\n\\t', '\\n\\t\\t\\n\\t\\t\\tYes\\n\\t\\t\\n\\t '], ['LAD000239814', 'AMERICAN CREOSOTE WORKS, INC. (WINNFIELD PLANT)', 'WINNFIELD', 'WINN', 'LA', '\\n\\t\\t\\t\\n\\t\\t\\t\\t\\tFinal NPL\\n\\t\\t\\t\\t\\n\\t\\t', 'No ', 'Yes', 'No ', '\\n\\t\\t\\n\\t\\t\\tYes\\n\\t\\t\\n\\t', '\\n\\t\\t\\n\\t\\t\\tYes\\n\\t\\t\\n\\t '], ['WAD057311094', 'AMERICAN CROSSARM & CONDUIT CO.', 'CHEHALIS', 'LEWIS', 'WA', '\\n\\t\\t\\t\\n\\t\\t\\t\\t\\tDeleted NPL\\n\\t\\t\\t\\t\\n\\t\\t', 'No ', 'Yes', 'Yes', '\\n\\t\\t\\n\\t\\t\\tYes\\n\\t\\t\\n\\t', '\\n\\t\\t\\n\\t\\t\\tYes\\n\\t\\t\\n\\t '], ['NJD002173276', 'AMERICAN CYANAMID CO', 'BRIDGEWATER', 'SOMERSET', 'NJ', '\\n\\t\\t\\t\\n\\t\\t\\t\\t\\tFinal NPL\\n\\t\\t\\t\\t\\n\\t\\t', 'No ', 'No ', 'No ', '\\n\\t\\t\\n\\t\\t\\tYes\\n\\t\\t\\n\\t', '\\n\\t\\t\\n\\t\\t\\tYes\\n\\t\\t\\n\\t '], ['WAD980833065', 'AMERICAN LAKE GARDENS/MCCHORD AFB', 'TACOMA', 'PIERCE', 'WA', '\\n\\t\\t\\t\\n\\t\\t\\t\\t\\tFinal NPL\\n\\t\\t\\t\\t\\n\\t\\t', 'No ', 'Yes', 'Yes', '\\n\\t\\t\\n\\t\\t\\tYes\\n\\t\\t\\n\\t', '\\n\\t\\t\\n\\t\\t\\tInsufficient Data\\n\\t\\t\\n\\t '], ['NYD002066330', 'AMERICAN THERMOSTAT CO.', 'SOUTH CAIRO', 'GREENE', 'NY', '\\n\\t\\t\\t\\n\\t\\t\\t\\t\\tFinal NPL\\n\\t\\t\\t\\t\\n\\t\\t', 'No ', 'Yes', 'No ', '\\n\\t\\t\\n\\t\\t\\tYes\\n\\t\\t\\n\\t', '\\n\\t\\t\\n\\t\\t\\tYes\\n\\t\\t\\n\\t '], ['TND980729172', 'AMNICOLA DUMP', 'CHATTANOOGA', 'HAMILTON', 'TN', '\\n\\t\\t\\t\\n\\t\\t\\t\\t\\tDeleted NPL\\n\\t\\t\\t\\t\\n\\t\\t', 'No ', 'Yes', 'Yes', '\\n\\t\\t\\n\\t\\t\\tYes\\n\\t\\t\\n\\t', '\\n\\t\\t\\n\\t\\t\\tNot a Groundwater Site\\n\\t\\t\\n\\t '], ['ILD002994259', 'AMOCO CHEMICALS (JOLIET LANDFILL)', 'JOLIET', 'WILL', 'IL', '\\n\\t\\t\\t\\n\\t\\t\\t\\t\\tFinal NPL\\n\\t\\t\\t\\t\\n\\t\\t', 'No ', 'No ', 'No ', '\\n\\t\\t\\n\\t\\t\\tYes\\n\\t\\t\\n\\t', '\\n\\t\\t\\n\\t\\t\\tInsufficient Data\\n\\t\\t\\n\\t '], ['PAD041421223', 'AMP, INC. (GLEN ROCK FACILITY)', 'GLEN ROCK', 'YORK', 'PA', '\\n\\t\\t\\t\\n\\t\\t\\t\\t\\tDeleted NPL\\n\\t\\t\\t\\t\\n\\t\\t', 'No ', 'Yes', 'No ', '\\n\\t\\t\\n\\t\\t\\tYes\\n\\t\\t\\n\\t', '\\n\\t\\t\\n\\t\\t\\tYes\\n\\t\\t\\n\\t '], ['MTD057561763', 'ANACONDA ALUMINUM CO COLUMBIA FALLS REDUCTION PLANT', 'COLUMBIA FALLS', 'FLATHEAD', 'MT', '\\n\\t\\t\\t\\n\\t\\t\\t\\t\\tFinal NPL\\n\\t\\t\\t\\t\\n\\t\\t', 'No ', 'No ', 'No ', '\\n\\t\\t\\n\\t\\t\\tNo\\n\\t\\t\\n\\t', '\\n\\t\\t\\n\\t\\t\\tNo\\n\\t\\t\\n\\t '], ['FLD020536538', 'ANACONDA ALUMINUM CO./MILGO ELECTRONICS CORP.', 'MIAMI', 'MIAMI-DADE', 'FL', '\\n\\t\\t\\t\\n\\t\\t\\t\\t\\tDeleted NPL\\n\\t\\t\\t\\t\\n\\t\\t', 'No ', 'Yes', 'Yes', '\\n\\t\\t\\n\\t\\t\\tYes\\n\\t\\t\\n\\t', '\\n\\t\\t\\n\\t\\t\\tNot a Groundwater Site\\n\\t\\t\\n\\t '], ['MTD093291656', 'ANACONDA CO. SMELTER', 'ANACONDA', 'DEER LODGE', 'MT', '\\n\\t\\t\\t\\n\\t\\t\\t\\t\\tFinal NPL\\n\\t\\t\\t\\t\\n\\t\\t', 'No ', 'No ', 'No ', '\\n\\t\\t\\n\\t\\t\\tNo\\n\\t\\t\\n\\t', '\\n\\t\\t\\n\\t\\t\\tYes\\n\\t\\t\\n\\t '], ['NVD083917252', 'ANACONDA COPPER MINE', 'YERINGTON', 'LYON', 'NV', '\\n\\t\\t\\t\\n\\t\\t\\t\\t\\tProposed NPL\\n\\t\\t\\t\\t\\n\\t\\t', 'No ', 'No ', 'No ', '\\n\\t\\t\\n\\t\\t\\tInsufficient Data\\n\\t\\t\\n\\t', '\\n\\t\\t\\n\\t\\t\\tInsufficient Data\\n\\t\\t\\n\\t '], ['NYD001485226', 'ANCHOR CHEMICALS', 'HICKSVILLE', 'NASSAU', 'NY', '\\n\\t\\t\\t\\n\\t\\t\\t\\t\\tDeleted NPL\\n\\t\\t\\t\\t\\n\\t\\t', 'No ', 'Yes', 'Yes', '\\n\\t\\t\\n\\t\\t\\tYes\\n\\t\\t\\n\\t', '\\n\\t\\t\\n\\t\\t\\tYes\\n\\t\\t\\n\\t '], ['GU6571999519', 'ANDERSEN AIR FORCE BASE', 'YIGO', 'GUAM', 'GU', '\\n\\t\\t\\t\\n\\t\\t\\t\\t\\tFinal NPL\\n\\t\\t\\t\\t\\n\\t\\t', 'No ', 'No ', 'No ', '\\n\\t\\t\\n\\t\\t\\tYes\\n\\t\\t\\n\\t', '\\n\\t\\t\\n\\t\\t\\tYes\\n\\t\\t\\n\\t '], ['MID002931228', 'ANDERSON DEVELOPMENT CO.', 'ADRIAN', 'LENAWEE', 'MI', '\\n\\t\\t\\t\\n\\t\\t\\t\\t\\tDeleted NPL\\n\\t\\t\\t\\t\\n\\t\\t', 'No ', 'Yes', 'Yes', '\\n\\t\\t\\n\\t\\t\\tYes\\n\\t\\t\\n\\t', '\\n\\t\\t\\n\\t\\t\\tYes\\n\\t\\t\\n\\t '], ['MD0570024000', 'ANDREWS AIR FORCE BASE', 'ANDREWS AIR FORCE BASE', \"PRINCE GEORGE'S\", 'MD', '\\n\\t\\t\\t\\n\\t\\t\\t\\t\\tFinal NPL\\n\\t\\t\\t\\t\\n\\t\\t', 'No ', 'No ', 'No ', '\\n\\t\\t\\n\\t\\t\\tYes\\n\\t\\t\\n\\t', '\\n\\t\\t\\n\\t\\t\\tInsufficient Data\\n\\t\\t\\n\\t '], ['MO0000958611', 'ANNAPOLIS LEAD MINE', 'ANNAPOLIS', 'IRON', 'MO', '\\n\\t\\t\\t\\n\\t\\t\\t\\t\\tDeleted NPL\\n\\t\\t\\t\\t\\n\\t\\t', 'No ', 'Yes', 'Yes', '\\n\\t\\t\\n\\t\\t\\tYes\\n\\t\\t\\n\\t', '\\n\\t\\t\\n\\t\\t\\tNot a Groundwater Site\\n\\t\\t\\n\\t '], ['AL3210020027', 'ANNISTON ARMY DEPOT (SOUTHEAST INDUSTRIAL AREA)', 'ANNISTON', 'CALHOUN', 'AL', '\\n\\t\\t\\t\\n\\t\\t\\t\\t\\tFinal NPL\\n\\t\\t\\t\\t\\n\\t\\t', 'No ', 'No ', 'No ', '\\n\\t\\t\\n\\t\\t\\tYes\\n\\t\\t\\n\\t', '\\n\\t\\t\\n\\t\\t\\tYes\\n\\t\\t\\n\\t '], ['ALD000400123', 'ANNISTON PCB SITE (MONSANTO CO)', 'ANNISTON', 'CALHOUN', 'AL', '\\n\\t\\t\\t\\n\\t\\t\\t\\t\\tNot NPL\\n\\t\\t\\t\\t\\n\\t\\t', 'Yes', 'No ', 'No ', '\\n\\t\\t\\n\\t\\t\\tNo\\n\\t\\t\\n\\t', '\\n\\t\\t\\n\\t\\t\\tInsufficient Data\\n\\t\\t\\n\\t '], ['FLD981014368', 'ANODYNE, INC.', 'NORTH MIAMI BEACH', 'MIAMI-DADE', 'FL', '\\n\\t\\t\\t\\n\\t\\t\\t\\t\\tFinal NPL\\n\\t\\t\\t\\t\\n\\t\\t', 'No ', 'No ', 'No ', '\\n\\t\\t\\n\\t\\t\\tYes\\n\\t\\t\\n\\t', '\\n\\t\\t\\n\\t\\t\\tNo\\n\\t\\t\\n\\t '], ['AZD008399263', 'APACHE POWDER CO.', 'SAINT DAVID', 'COCHISE', 'AZ', '\\n\\t\\t\\t\\n\\t\\t\\t\\t\\tFinal NPL\\n\\t\\t\\t\\t\\n\\t\\t', 'No ', 'Yes', 'Yes', '\\n\\t\\t\\n\\t\\t\\tYes\\n\\t\\t\\n\\t', '\\n\\t\\t\\n\\t\\t\\tYes\\n\\t\\t\\n\\t '], ['NYD980535652', 'APPLIED ENVIRONMENTAL SERVICES', 'GLENWOOD LANDING', 'NASSAU', 'NY', '\\n\\t\\t\\t\\n\\t\\t\\t\\t\\tFinal NPL\\n\\t\\t\\t\\t\\n\\t\\t', 'No ', 'Yes', 'Yes', '\\n\\t\\t\\n\\t\\t\\tYes\\n\\t\\t\\n\\t', '\\n\\t\\t\\n\\t\\t\\tYes\\n\\t\\t\\n\\t '], ['CAD042728840', 'APPLIED MATERIALS', 'SANTA CLARA', 'SANTA CLARA', 'CA', '\\n\\t\\t\\t\\n\\t\\t\\t\\t\\tFinal NPL\\n\\t\\t\\t\\t\\n\\t\\t', 'No ', 'Yes', 'Yes', '\\n\\t\\t\\n\\t\\t\\tYes\\n\\t\\t\\n\\t', '\\n\\t\\t\\n\\t\\t\\tYes\\n\\t\\t\\n\\t '], ['SCD058754789', 'AQUA-TECH ENVIRONMENTAL INC (GROCE LABS)', 'GREER', 'SPARTANBURG', 'SC', '\\n\\t\\t\\t\\n\\t\\t\\t\\t\\tFinal NPL\\n\\t\\t\\t\\t\\n\\t\\t', 'No ', 'Yes', 'Yes', '\\n\\t\\t\\n\\t\\t\\tYes\\n\\t\\t\\n\\t', '\\n\\t\\t\\n\\t\\t\\tYes\\n\\t\\t\\n\\t '], ['OHD017506171', 'ARCANUM IRON & METAL', 'DARKE COUNTY', 'DARKE', 'OH', '\\n\\t\\t\\t\\n\\t\\t\\t\\t\\tDeleted NPL\\n\\t\\t\\t\\t\\n\\t\\t', 'No ', 'Yes', 'Yes', '\\n\\t\\t\\n\\t\\t\\tYes\\n\\t\\t\\n\\t', '\\n\\t\\t\\n\\t\\t\\tNot a Groundwater Site\\n\\t\\t\\n\\t '], ['AKD980988158', 'ARCTIC SURPLUS', 'FAIRBANKS', '[Blank County]', 'AK', '\\n\\t\\t\\t\\n\\t\\t\\t\\t\\tDeleted NPL\\n\\t\\t\\t\\t\\n\\t\\t', 'No ', 'Yes', 'Yes', '\\n\\t\\t\\n\\t\\t\\tYes\\n\\t\\t\\n\\t', '\\n\\t\\t\\n\\t\\t\\tYes\\n\\t\\t\\n\\t '], ['CAD983650011', 'ARGONAUT MINE', 'JACKSON', 'AMADOR', 'CA', '\\n\\t\\t\\t\\n\\t\\t\\t\\t\\tFinal NPL\\n\\t\\t\\t\\t\\n\\t\\t', 'No ', 'No ', 'No ', '\\n\\t\\t\\n\\t\\t\\tNo\\n\\t\\t\\n\\t', '\\n\\t\\t\\n\\t\\t\\tNot a Groundwater Site\\n\\t\\t\\n\\t '], ['KSD980500789', 'ARKANSAS CITY DUMP', 'ARKANSAS CITY', 'COWLEY', 'KS', '\\n\\t\\t\\t\\n\\t\\t\\t\\t\\tDeleted NPL\\n\\t\\t\\t\\t\\n\\t\\t', 'No ', 'Yes', 'Yes', '\\n\\t\\t\\n\\t\\t\\tYes\\n\\t\\t\\n\\t', '\\n\\t\\t\\n\\t\\t\\tNot a Groundwater Site\\n\\t\\t\\n\\t '], ['FLSFN0406909', 'ARKLA TERRA PROPERTY', 'THONOTOSASSA', 'HILLSBOROUGH', 'FL', '\\n\\t\\t\\t\\n\\t\\t\\t\\t\\tFinal NPL\\n\\t\\t\\t\\t\\n\\t\\t', 'No ', 'Yes', 'Yes', '\\n\\t\\t\\n\\t\\t\\tYes\\n\\t\\t\\n\\t', '\\n\\t\\t\\n\\t\\t\\tYes\\n\\t\\t\\n\\t '], ['ARD084930148', 'ARKWOOD, INC.', 'OMAHA', 'BOONE', 'AR', '\\n\\t\\t\\t\\n\\t\\t\\t\\t\\tFinal NPL\\n\\t\\t\\t\\t\\n\\t\\t', 'No ', 'Yes', 'No ', '\\n\\t\\t\\n\\t\\t\\tYes\\n\\t\\t\\n\\t', '\\n\\t\\t\\n\\t\\t\\tYes\\n\\t\\t\\n\\t '], ['TND980468557', 'ARLINGTON BLENDING & PACKAGING', 'ARLINGTON', 'SHELBY', 'TN', '\\n\\t\\t\\t\\n\\t\\t\\t\\t\\tFinal NPL\\n\\t\\t\\t\\t\\n\\t\\t', 'No ', 'Yes', 'Yes', '\\n\\t\\t\\n\\t\\t\\tYes\\n\\t\\t\\n\\t', '\\n\\t\\t\\n\\t\\t\\tYes\\n\\t\\t\\n\\t '], ['OHD074705930', 'ARMCO INCORPORATION-HAMILTON PLANT', 'HAMILTON', 'BUTLER', 'OH', '\\n\\t\\t\\t\\n\\t\\t\\t\\t\\tProposed NPL\\n\\t\\t\\t\\t\\n\\t\\t', 'No ', 'No ', 'No ', '\\n\\t\\t\\n\\t\\t\\tInsufficient Data\\n\\t\\t\\n\\t', '\\n\\t\\t\\n\\t\\t\\tInsufficient Data\\n\\t\\t\\n\\t '], ['MOD046750253', 'ARMOUR ROAD', 'NORTH KANSAS CITY', 'CLAY', 'MO', '\\n\\t\\t\\t\\n\\t\\t\\t\\t\\tFinal NPL\\n\\t\\t\\t\\t\\n\\t\\t', 'No ', 'No ', 'No ', '\\n\\t\\t\\n\\t\\t\\tYes\\n\\t\\t\\n\\t', '\\n\\t\\t\\n\\t\\t\\tYes\\n\\t\\t\\n\\t '], ['GAN000410033', 'ARMSTRONG WORLD INDUSTRIES', 'MACON', 'BIBB', 'GA', '\\n\\t\\t\\t\\n\\t\\t\\t\\t\\tFinal NPL\\n\\t\\t\\t\\t\\n\\t\\t', 'No ', 'No ', 'No ', '\\n\\t\\t\\n\\t\\t\\tYes\\n\\t\\t\\n\\t', '\\n\\t\\t\\n\\t\\t\\tInsufficient Data\\n\\t\\t\\n\\t '], ['DED980494496', 'ARMY CREEK LANDFILL', 'NEW CASTLE', 'NEW CASTLE', 'DE', '\\n\\t\\t\\t\\n\\t\\t\\t\\t\\tFinal NPL\\n\\t\\t\\t\\t\\n\\t\\t', 'No ', 'Yes', 'Yes', '\\n\\t\\t\\n\\t\\t\\tYes\\n\\t\\t\\n\\t', '\\n\\t\\t\\n\\t\\t\\tNo\\n\\t\\t\\n\\t '], ['IDD000800961', 'ARRCOM (DREXLER ENTERPRISES)', 'RATHDRUM', 'KOOTENAI', 'ID', '\\n\\t\\t\\t\\n\\t\\t\\t\\t\\tDeleted NPL\\n\\t\\t\\t\\t\\n\\t\\t', 'No ', 'Yes', 'Yes', '\\n\\t\\t\\n\\t\\t\\tYes\\n\\t\\t\\n\\t', '\\n\\t\\t\\n\\t\\t\\tNot a Groundwater Site\\n\\t\\t\\n\\t '], ['VAD042916361', 'ARROWHEAD ASSOCIATES, INC./SCOVILL CORP.', 'MONTROSS', 'WESTMORELAND', 'VA', '\\n\\t\\t\\t\\n\\t\\t\\t\\t\\tFinal NPL\\n\\t\\t\\t\\t\\n\\t\\t', 'No ', 'Yes', 'No ', '\\n\\t\\t\\n\\t\\t\\tYes\\n\\t\\t\\n\\t', '\\n\\t\\t\\n\\t\\t\\tYes\\n\\t\\t\\n\\t '], ['MND980823975', 'ARROWHEAD REFINERY CO.', 'HERMANTOWN', 'ST. LOUIS', 'MN', '\\n\\t\\t\\t\\n\\t\\t\\t\\t\\tDeleted NPL\\n\\t\\t\\t\\t\\n\\t\\t', 'No ', 'Yes', 'Yes', '\\n\\t\\t\\n\\t\\t\\tYes\\n\\t\\t\\n\\t', '\\n\\t\\t\\n\\t\\t\\tYes\\n\\t\\t\\n\\t '], ['NYD982531469', 'ARSENIC MINE', 'KENT', 'PUTNAM', 'NY', '\\n\\t\\t\\t\\n\\t\\t\\t\\t\\tFinal NPL\\n\\t\\t\\t\\t\\n\\t\\t', 'No ', 'No ', 'No ', '\\n\\t\\t\\n\\t\\t\\tNo\\n\\t\\t\\n\\t', '\\n\\t\\t\\n\\t\\t\\tInsufficient Data\\n\\t\\t\\n\\t '], ['NDD980716963', 'ARSENIC TRIOXIDE SITE', 'SOUTHEAST', 'RICHLAND', 'ND', '\\n\\t\\t\\t\\n\\t\\t\\t\\t\\tDeleted NPL\\n\\t\\t\\t\\t\\n\\t\\t', 'No ', 'Yes', 'No ', '\\n\\t\\t\\n\\t\\t\\tYes\\n\\t\\t\\n\\t', '\\n\\t\\t\\n\\t\\t\\tYes\\n\\t\\t\\n\\t '], ['AZD008397127', 'ASARCO HAYDEN PLANT', 'HAYDEN', 'GILA', 'AZ', '\\n\\t\\t\\t\\n\\t\\t\\t\\t\\tNot NPL\\n\\t\\t\\t\\t\\n\\t\\t', 'Yes', 'No ', 'No ', '\\n\\t\\t\\n\\t\\t\\tNo\\n\\t\\t\\n\\t', '\\n\\t\\t\\n\\t\\t\\tYes\\n\\t\\t\\n\\t '], ['ILN000508170', 'ASARCO TAYLOR SPRINGS', 'TAYLOR SPRINGS', 'MONTGOMERY', 'IL', '\\n\\t\\t\\t\\n\\t\\t\\t\\t\\tFinal NPL\\n\\t\\t\\t\\t\\n\\t\\t', 'No ', 'No ', 'No ', '\\n\\t\\t\\n\\t\\t\\tNo\\n\\t\\t\\n\\t', '\\n\\t\\t\\n\\t\\t\\tYes\\n\\t\\t\\n\\t '], ['NJD980654149', 'ASBESTOS DUMP', 'MILLINGTON', 'MORRIS', 'NJ', '\\n\\t\\t\\t\\n\\t\\t\\t\\t\\tDeleted NPL\\n\\t\\t\\t\\t\\n\\t\\t', 'No ', 'Yes', 'Yes', '\\n\\t\\t\\n\\t\\t\\tYes\\n\\t\\t\\n\\t', '\\n\\t\\t\\n\\t\\t\\tNot a Groundwater Site\\n\\t\\t\\n\\t '], ['WISFN0507952', 'ASHLAND/NORTHERN STATES POWER LAKEFRONT', 'ASHLAND', 'ASHLAND', 'WI', '\\n\\t\\t\\t\\n\\t\\t\\t\\t\\tFinal NPL\\n\\t\\t\\t\\t\\n\\t\\t', 'No ', 'Yes', 'Yes', '\\n\\t\\t\\n\\t\\t\\tYes\\n\\t\\t\\n\\t', '\\n\\t\\t\\n\\t\\t\\tYes\\n\\t\\t\\n\\t '], ['OR0002392793', 'ASTORIA MARINE CONSTRUCTION COMPANY', 'ASTORIA', 'CLATSOP', 'OR', '\\n\\t\\t\\t\\n\\t\\t\\t\\t\\tProposed NPL\\n\\t\\t\\t\\t\\n\\t\\t', 'No ', 'No ', 'No ', '\\n\\t\\t\\n\\t\\t\\tYes\\n\\t\\t\\n\\t', '\\n\\t\\t\\n\\t\\t\\tYes\\n\\t\\t\\n\\t '], ['NMD043158591', 'AT & SF (CLOVIS)', 'CLOVIS', 'CURRY', 'NM', '\\n\\t\\t\\t\\n\\t\\t\\t\\t\\tDeleted NPL\\n\\t\\t\\t\\t\\n\\t\\t', 'No ', 'Yes', 'Yes', '\\n\\t\\t\\n\\t\\t\\tYes\\n\\t\\t\\n\\t', '\\n\\t\\t\\n\\t\\t\\tNot a Groundwater Site\\n\\t\\t\\n\\t '], ['NMD980622864', 'AT&SF (ALBUQUERQUE)', 'ALBUQUERQUE', 'BERNALILLO', 'NM', '\\n\\t\\t\\t\\n\\t\\t\\t\\t\\tFinal NPL\\n\\t\\t\\t\\t\\n\\t\\t', 'No ', 'Yes', 'Yes', '\\n\\t\\t\\n\\t\\t\\tYes\\n\\t\\t\\n\\t', '\\n\\t\\t\\n\\t\\t\\tYes\\n\\t\\t\\n\\t '], ['PRN000204694', 'ATLANTIC FLEET WEAPONS TRAINING AREA', 'VIEQUES', 'VIEQUES', 'PR', '\\n\\t\\t\\t\\n\\t\\t\\t\\t\\tFinal NPL\\n\\t\\t\\t\\t\\n\\t\\t', 'No ', 'No ', 'No ', '\\n\\t\\t\\n\\t\\t\\tNo\\n\\t\\t\\n\\t', '\\n\\t\\t\\n\\t\\t\\tInsufficient Data\\n\\t\\t\\n\\t '], ['NJD981558430', 'ATLANTIC RESOURCES', 'SAYREVILLE', 'MIDDLESEX', 'NJ', '\\n\\t\\t\\t\\n\\t\\t\\t\\t\\tFinal NPL\\n\\t\\t\\t\\t\\n\\t\\t', 'No ', 'Yes', 'No ', '\\n\\t\\t\\n\\t\\t\\tYes\\n\\t\\t\\n\\t', '\\n\\t\\t\\n\\t\\t\\tYes\\n\\t\\t\\n\\t '], ['VAD990710410', 'ATLANTIC WOOD INDUSTRIES, INC.', 'PORTSMOUTH', 'PORTSMOUTH CITY', 'VA', '\\n\\t\\t\\t\\n\\t\\t\\t\\t\\tFinal NPL\\n\\t\\t\\t\\t\\n\\t\\t', 'No ', 'No ', 'No ', '\\n\\t\\t\\n\\t\\t\\tYes\\n\\t\\t\\n\\t', '\\n\\t\\t\\n\\t\\t\\tYes\\n\\t\\t\\n\\t '], ['CAD980496863', 'ATLAS ASBESTOS MINE', 'COALINGA', 'FRESNO', 'CA', '\\n\\t\\t\\t\\n\\t\\t\\t\\t\\tFinal NPL\\n\\t\\t\\t\\t\\n\\t\\t', 'No ', 'Yes', 'Yes', '\\n\\t\\t\\n\\t\\t\\tYes\\n\\t\\t\\n\\t', '\\n\\t\\t\\n\\t\\t\\tNot a Groundwater Site\\n\\t\\t\\n\\t '], ['MAD001026319', 'ATLAS TACK CORP.', 'FAIRHAVEN', 'BRISTOL', 'MA', '\\n\\t\\t\\t\\n\\t\\t\\t\\t\\tFinal NPL\\n\\t\\t\\t\\t\\n\\t\\t', 'No ', 'Yes', 'Yes', '\\n\\t\\t\\n\\t\\t\\tYes\\n\\t\\t\\n\\t', '\\n\\t\\t\\n\\t\\t\\tYes\\n\\t\\t\\n\\t '], ['NHD980524086', 'AUBURN ROAD LANDFILL', 'LONDONDERRY', 'ROCKINGHAM', 'NH', '\\n\\t\\t\\t\\n\\t\\t\\t\\t\\tFinal NPL\\n\\t\\t\\t\\t\\n\\t\\t', 'No ', 'Yes', 'Yes', '\\n\\t\\t\\n\\t\\t\\tYes\\n\\t\\t\\n\\t', '\\n\\t\\t\\n\\t\\t\\tYes\\n\\t\\t\\n\\t '], ['PAD987341716', 'AUSTIN AVENUE RADIATION SITE', 'DELAWARE COUNTY', 'DELAWARE', 'PA', '\\n\\t\\t\\t\\n\\t\\t\\t\\t\\tDeleted NPL\\n\\t\\t\\t\\t\\n\\t\\t', 'No ', 'Yes', 'Yes', '\\n\\t\\t\\n\\t\\t\\tYes\\n\\t\\t\\n\\t', '\\n\\t\\t\\n\\t\\t\\tYes\\n\\t\\t\\n\\t '], ['MID980794382', 'AUTO ION CHEMICALS, INC.', 'KALAMAZOO', 'KALAMAZOO', 'MI', '\\n\\t\\t\\t\\n\\t\\t\\t\\t\\tFinal NPL\\n\\t\\t\\t\\t\\n\\t\\t', 'No ', 'Yes', 'Yes', '\\n\\t\\t\\n\\t\\t\\tYes\\n\\t\\t\\n\\t', '\\n\\t\\t\\n\\t\\t\\tYes\\n\\t\\t\\n\\t '], ['PAD003053709', 'AVCO LYCOMING (WILLIAMSPORT DIVISION)', 'WILLIAMSPORT', 'LYCOMING', 'PA', '\\n\\t\\t\\t\\n\\t\\t\\t\\t\\tFinal NPL\\n\\t\\t\\t\\t\\n\\t\\t', 'No ', 'Yes', 'No ', '\\n\\t\\t\\n\\t\\t\\tYes\\n\\t\\t\\n\\t', '\\n\\t\\t\\n\\t\\t\\tYes\\n\\t\\t\\n\\t '], ['MID980791461', 'AVENUE \"E\" GROUND WATER CONTAMINATION', 'TRAVERSE CITY', 'GRAND TRAVERSE', 'MI', '\\n\\t\\t\\t\\n\\t\\t\\t\\t\\tDeleted NPL\\n\\t\\t\\t\\t\\n\\t\\t', 'No ', 'Yes', 'Yes', '\\n\\t\\t\\n\\t\\t\\tYes\\n\\t\\t\\n\\t', '\\n\\t\\t\\n\\t\\t\\tYes\\n\\t\\t\\n\\t '], ['VAD070358684', 'AVTEX FIBERS, INC.', 'FRONT ROYAL', 'WARREN', 'VA', '\\n\\t\\t\\t\\n\\t\\t\\t\\t\\tFinal NPL\\n\\t\\t\\t\\t\\n\\t\\t', 'No ', 'Yes', 'No ', '\\n\\t\\t\\n\\t\\t\\tYes\\n\\t\\t\\n\\t', '\\n\\t\\t\\n\\t\\t\\tYes\\n\\t\\t\\n\\t '], ['FLD004574190', 'B&B CHEMICAL CO., INC.', 'HIALEAH', 'MIAMI-DADE', 'FL', '\\n\\t\\t\\t\\n\\t\\t\\t\\t\\tDeleted NPL\\n\\t\\t\\t\\t\\n\\t\\t', 'No ', 'Yes', 'Yes', '\\n\\t\\t\\n\\t\\t\\tYes\\n\\t\\t\\n\\t', '\\n\\t\\t\\n\\t\\t\\tYes\\n\\t\\t\\n\\t '], ['KYD006370167', 'B.F. GOODRICH', 'CALVERT CITY', 'MARSHALL', 'KY', '\\n\\t\\t\\t\\n\\t\\t\\t\\t\\tFinal NPL\\n\\t\\t\\t\\t\\n\\t\\t', 'No ', 'Yes', 'No ', '\\n\\t\\t\\n\\t\\t\\tYes\\n\\t\\t\\n\\t', '\\n\\t\\t\\n\\t\\t\\tYes\\n\\t\\t\\n\\t '], ['PAN000306939', 'BAGHURST DRIVE', 'HARLEYSVILLE', 'MONTGOMERY', 'PA', '\\n\\t\\t\\t\\n\\t\\t\\t\\t\\tFinal NPL\\n\\t\\t\\t\\t\\n\\t\\t', 'No ', 'No ', 'No ', '\\n\\t\\t\\n\\t\\t\\tYes\\n\\t\\t\\n\\t', '\\n\\t\\t\\n\\t\\t\\tYes\\n\\t\\t\\n\\t '], ['TXD980864649', 'BAILEY WASTE DISPOSAL', 'BRIDGE CITY', 'ORANGE', 'TX', '\\n\\t\\t\\t\\n\\t\\t\\t\\t\\tDeleted NPL\\n\\t\\t\\t\\t\\n\\t\\t', 'No ', 'Yes', 'Yes', '\\n\\t\\t\\n\\t\\t\\tYes\\n\\t\\t\\n\\t', '\\n\\t\\t\\n\\t\\t\\tYes\\n\\t\\t\\n\\t '], ['MAD001041987', 'BAIRD & MCGUIRE', 'HOLBROOK', 'NORFOLK', 'MA', '\\n\\t\\t\\t\\n\\t\\t\\t\\t\\tFinal NPL\\n\\t\\t\\t\\t\\n\\t\\t', 'No ', 'Yes', 'Yes', '\\n\\t\\t\\n\\t\\t\\tYes\\n\\t\\t\\n\\t', '\\n\\t\\t\\n\\t\\t\\tYes\\n\\t\\t\\n\\t '], ['IDN001002859', 'BALLARD MINE', 'SODA SPRINGS', 'CARIBOU', 'ID', '\\n\\t\\t\\t\\n\\t\\t\\t\\t\\tNot NPL\\n\\t\\t\\t\\t\\n\\t\\t', 'Yes', 'No ', 'No ', '\\n\\t\\t\\n\\t\\t\\tYes\\n\\t\\t\\n\\t', '\\n\\t\\t\\n\\t\\t\\tInsufficient Data\\n\\t\\t\\n\\t '], ['PAD061105128', 'BALLY GROUND WATER CONTAMINATION', 'BALLY', 'BERKS', 'PA', '\\n\\t\\t\\t\\n\\t\\t\\t\\t\\tFinal NPL\\n\\t\\t\\t\\t\\n\\t\\t', 'No ', 'Yes', 'Yes', '\\n\\t\\t\\n\\t\\t\\tYes\\n\\t\\t\\n\\t', '\\n\\t\\t\\n\\t\\t\\tYes\\n\\t\\t\\n\\t '], ['TXN000606565', 'BANDERA ROAD GROUND WATER PLUME', 'SAN ANTONIO', 'BEXAR', 'TX', '\\n\\t\\t\\t\\n\\t\\t\\t\\t\\tFinal NPL\\n\\t\\t\\t\\t\\n\\t\\t', 'No ', 'No ', 'No ', '\\n\\t\\t\\n\\t\\t\\tNo\\n\\t\\t\\n\\t', '\\n\\t\\t\\n\\t\\t\\tYes\\n\\t\\t\\n\\t '], ['WA5170027291', 'BANGOR NAVAL SUBMARINE BASE', 'SILVERDALE', 'KITSAP', 'WA', '\\n\\t\\t\\t\\n\\t\\t\\t\\t\\tFinal NPL\\n\\t\\t\\t\\t\\n\\t\\t', 'No ', 'Yes', 'No ', '\\n\\t\\t\\n\\t\\t\\tNo\\n\\t\\t\\n\\t', '\\n\\t\\t\\n\\t\\t\\tNo\\n\\t\\t\\n\\t '], ['WA7170027265', 'BANGOR ORDNANCE DISPOSAL (USNAVY)', 'BREMERTON', 'KITSAP', 'WA', '\\n\\t\\t\\t\\n\\t\\t\\t\\t\\tFinal NPL\\n\\t\\t\\t\\t\\n\\t\\t', 'No ', 'Yes', 'No ', '\\n\\t\\t\\n\\t\\t\\tYes\\n\\t\\t\\n\\t', '\\n\\t\\t\\n\\t\\t\\tYes\\n\\t\\t\\n\\t '], ['NCSFN0406989', 'BARBER ORCHARD', 'WAYNESVILLE', 'HAYWOOD', 'NC', '\\n\\t\\t\\t\\n\\t\\t\\t\\t\\tFinal NPL\\n\\t\\t\\t\\t\\n\\t\\t', 'No ', 'Yes', 'Yes', '\\n\\t\\t\\n\\t\\t\\tYes\\n\\t\\t\\n\\t', '\\n\\t\\t\\n\\t\\t\\tYes\\n\\t\\t\\n\\t '], ['PRD980509129', 'BARCELONETA LANDFILL', 'FLORIDA AFUERA', '[Blank County]', 'PR', '\\n\\t\\t\\t\\n\\t\\t\\t\\t\\tDeleted NPL\\n\\t\\t\\t\\t\\n\\t\\t', 'No ', 'Yes', 'Yes', '\\n\\t\\t\\n\\t\\t\\tYes\\n\\t\\t\\n\\t', '\\n\\t\\t\\n\\t\\t\\tYes\\n\\t\\t\\n\\t '], ['SCN000407714', 'BARITE HILL/NEVADA GOLDFIELDS', 'MCCORMICK', 'MCCORMICK', 'SC', '\\n\\t\\t\\t\\n\\t\\t\\t\\t\\tFinal NPL\\n\\t\\t\\t\\t\\n\\t\\t', 'No ', 'No ', 'No ', '\\n\\t\\t\\n\\t\\t\\tInsufficient Data\\n\\t\\t\\n\\t', '\\n\\t\\t\\n\\t\\t\\tInsufficient Data\\n\\t\\t\\n\\t '], ['MT6122307485', 'BARKER HUGHESVILLE MINING DISTRICT', 'MONARCH', 'CASCADE', 'MT', '\\n\\t\\t\\t\\n\\t\\t\\t\\t\\tFinal NPL\\n\\t\\t\\t\\t\\n\\t\\t', 'No ', 'No ', 'No ', '\\n\\t\\t\\n\\t\\t\\tNo\\n\\t\\t\\n\\t', '\\n\\t\\t\\n\\t\\t\\tNo\\n\\t\\t\\n\\t '], ['CTD980732333', 'BARKHAMSTED-NEW HARTFORD LANDFILL', 'BARKHAMSTED', 'LITCHFIELD', 'CT', '\\n\\t\\t\\t\\n\\t\\t\\t\\t\\tFinal NPL\\n\\t\\t\\t\\t\\n\\t\\t', 'No ', 'Yes', 'Yes', '\\n\\t\\t\\n\\t\\t\\tYes\\n\\t\\t\\n\\t', '\\n\\t\\t\\n\\t\\t\\tYes\\n\\t\\t\\n\\t '], ['MID017188673', 'BARRELS, INC.', 'LANSING', 'INGHAM', 'MI', '\\n\\t\\t\\t\\n\\t\\t\\t\\t\\tDeleted NPL\\n\\t\\t\\t\\t\\n\\t\\t', 'No ', 'Yes', 'Yes', '\\n\\t\\t\\n\\t\\t\\tYes\\n\\t\\t\\n\\t', '\\n\\t\\t\\n\\t\\t\\tYes\\n\\t\\t\\n\\t '], ['CA8170024261', 'BARSTOW MARINE CORPS LOGISTICS BASE', 'BARSTOW', 'SAN BERNARDINO', 'CA', '\\n\\t\\t\\t\\n\\t\\t\\t\\t\\tFinal NPL\\n\\t\\t\\t\\t\\n\\t\\t', 'No ', 'No ', 'No ', '\\n\\t\\t\\n\\t\\t\\tYes\\n\\t\\t\\n\\t', '\\n\\t\\t\\n\\t\\t\\tYes\\n\\t\\t\\n\\t '], ['MTD982572562', 'BASIN MINING AREA', 'BASIN', 'JEFFERSON', 'MT', '\\n\\t\\t\\t\\n\\t\\t\\t\\t\\tFinal NPL\\n\\t\\t\\t\\t\\n\\t\\t', 'No ', 'No ', 'No ', '\\n\\t\\t\\n\\t\\t\\tInsufficient Data\\n\\t\\t\\n\\t', '\\n\\t\\t\\n\\t\\t\\tInsufficient Data\\n\\t\\t\\n\\t '], ['NYD980507693', 'BATAVIA LANDFILL', 'BATAVIA', 'GENESEE', 'NY', '\\n\\t\\t\\t\\n\\t\\t\\t\\t\\tDeleted NPL\\n\\t\\t\\t\\t\\n\\t\\t', 'No ', 'Yes', 'Yes', '\\n\\t\\t\\n\\t\\t\\tYes\\n\\t\\t\\n\\t', '\\n\\t\\t\\n\\t\\t\\tYes\\n\\t\\t\\n\\t '], ['ILN000510407', 'BAUTSCH-GRAY MINE', 'GALENA', 'JO DAVIESS', 'IL', '\\n\\t\\t\\t\\n\\t\\t\\t\\t\\tFinal NPL\\n\\t\\t\\t\\t\\n\\t\\t', 'No ', 'No ', 'No ', '\\n\\t\\t\\n\\t\\t\\tNo\\n\\t\\t\\n\\t', '\\n\\t\\t\\n\\t\\t\\tInsufficient Data\\n\\t\\t\\n\\t ']]\n"
     ]
    }
   ],
   "source": [
    "print(testTableText)"
   ]
  },
  {
   "cell_type": "markdown",
   "id": "9bd2f454-83a4-428d-afe0-3168cb2f5bd6",
   "metadata": {},
   "source": [
    "### Run to get all tables\n",
    "1. we have already navigated to first table\n",
    "2. get first table info\n",
    "3. start while loop\n",
    "4. 1904 total sites so will go until < 1901"
   ]
  },
  {
   "cell_type": "code",
   "execution_count": 65,
   "id": "113f99b2-2e7a-47bf-957c-c9420f895a08",
   "metadata": {},
   "outputs": [
    {
     "name": "stdout",
     "output_type": "stream",
     "text": [
      "just got table text after navigating to: 51\n",
      "just got table text after navigating to: 101\n",
      "just got table text after navigating to: 151\n",
      "just got table text after navigating to: 201\n",
      "just got table text after navigating to: 251\n",
      "just got table text after navigating to: 301\n",
      "just got table text after navigating to: 351\n",
      "just got table text after navigating to: 401\n",
      "just got table text after navigating to: 451\n",
      "just got table text after navigating to: 501\n",
      "just got table text after navigating to: 551\n",
      "just got table text after navigating to: 601\n",
      "just got table text after navigating to: 651\n",
      "just got table text after navigating to: 701\n",
      "just got table text after navigating to: 751\n",
      "just got table text after navigating to: 801\n",
      "just got table text after navigating to: 851\n",
      "just got table text after navigating to: 901\n",
      "just got table text after navigating to: 951\n",
      "just got table text after navigating to: 1001\n",
      "just got table text after navigating to: 1051\n",
      "just got table text after navigating to: 1101\n",
      "just got table text after navigating to: 1151\n",
      "just got table text after navigating to: 1201\n",
      "just got table text after navigating to: 1251\n",
      "just got table text after navigating to: 1301\n",
      "just got table text after navigating to: 1351\n",
      "just got table text after navigating to: 1401\n",
      "just got table text after navigating to: 1451\n",
      "just got table text after navigating to: 1501\n",
      "just got table text after navigating to: 1551\n",
      "just got table text after navigating to: 1601\n",
      "just got table text after navigating to: 1651\n",
      "just got table text after navigating to: 1701\n",
      "just got table text after navigating to: 1751\n",
      "just got table text after navigating to: 1801\n",
      "just got table text after navigating to: 1851\n",
      "just got table text after navigating to: 1901\n"
     ]
    }
   ],
   "source": [
    "# get first table text\n",
    "await get_table_text()\n",
    "# enter into loop\n",
    "while state[\"page_counter\"] < 1901:\n",
    "    await go_to_next_page()\n",
    "    await get_table_text()\n",
    "    print('just got table text after navigating to:', state[\"page_counter\"])"
   ]
  },
  {
   "cell_type": "code",
   "execution_count": 66,
   "id": "d9118155-dd19-4b9b-844b-01a28bb3a019",
   "metadata": {},
   "outputs": [
    {
     "name": "stdout",
     "output_type": "stream",
     "text": [
      "1904\n"
     ]
    }
   ],
   "source": [
    "print(len(tableText))"
   ]
  },
  {
   "cell_type": "code",
   "execution_count": 67,
   "id": "5c8f72a4-77c0-418f-8ec1-3c710ff5622c",
   "metadata": {},
   "outputs": [
    {
     "name": "stdout",
     "output_type": "stream",
     "text": [
      "['NJD986643153', 'ZSCHIEGNER REFINING', 'HOWELL TOWNSHIP', 'MONMOUTH', 'NJ', '\\n\\t\\t\\t\\n\\t\\t\\t\\t\\tFinal NPL\\n\\t\\t\\t\\t\\n\\t\\t', 'No ', 'Yes', 'Yes', '\\n\\t\\t\\n\\t\\t\\tYes\\n\\t\\t\\n\\t', '\\n\\t\\t\\n\\t\\t\\tYes\\n\\t\\t\\n\\t ']\n"
     ]
    }
   ],
   "source": [
    "print(tableText[-1])"
   ]
  },
  {
   "cell_type": "code",
   "execution_count": 68,
   "id": "cd88a74a-424c-4b88-ba7b-f2e495b3ae26",
   "metadata": {},
   "outputs": [
    {
     "name": "stdout",
     "output_type": "stream",
     "text": [
      "['NED981713837', '10TH STREET SITE', 'COLUMBUS', 'PLATTE', 'NE', '\\n\\t\\t\\t\\n\\t\\t\\t\\t\\tFinal NPL\\n\\t\\t\\t\\t\\n\\t\\t', 'No ', 'Yes', 'Yes', '\\n\\t\\t\\n\\t\\t\\tYes\\n\\t\\t\\n\\t', '\\n\\t\\t\\n\\t\\t\\tYes\\n\\t\\t\\n\\t ']\n"
     ]
    }
   ],
   "source": [
    "print(tableText[0])"
   ]
  },
  {
   "cell_type": "code",
   "execution_count": 69,
   "id": "6a425254-f957-43b2-964b-05e3e526f43b",
   "metadata": {},
   "outputs": [],
   "source": [
    "columns = [\"EPA ID\", \"Site Name\", \"City\", \"Country\", \"State\", \"National Priorities List Status\", \"Superfund Alternative Approach\", \"Construction Complete\", \"Site-wide Ready for Anticipated Use\", \"Human Exposure Under Control\", \"Groundwater Migration Under Control\"]"
   ]
  },
  {
   "cell_type": "code",
   "execution_count": 70,
   "id": "fff427c9-a972-41fb-b0de-10d86e7a6073",
   "metadata": {},
   "outputs": [
    {
     "data": {
      "text/plain": [
       "11"
      ]
     },
     "execution_count": 70,
     "metadata": {},
     "output_type": "execute_result"
    }
   ],
   "source": [
    "len(columns)"
   ]
  },
  {
   "cell_type": "code",
   "execution_count": 71,
   "id": "ea5ad863-8698-461f-b1f6-0f46accdcd12",
   "metadata": {},
   "outputs": [
    {
     "name": "stdout",
     "output_type": "stream",
     "text": [
      "11\n"
     ]
    }
   ],
   "source": [
    "print(len(tableText[-1]))"
   ]
  },
  {
   "cell_type": "code",
   "execution_count": 76,
   "id": "ad2905a5-340c-4b88-9d5e-fb9230ccae54",
   "metadata": {},
   "outputs": [],
   "source": [
    "df = pd.DataFrame(tableText, columns=columns)"
   ]
  },
  {
   "cell_type": "code",
   "execution_count": 77,
   "id": "9f172d43-076b-49aa-ae09-6f9f940d90c3",
   "metadata": {},
   "outputs": [
    {
     "name": "stdout",
     "output_type": "stream",
     "text": [
      "            EPA ID                                Site Name             City  \\\n",
      "0     NED981713837                         10TH STREET SITE         COLUMBUS   \n",
      "1     KSD007241656   29TH & MEAD GROUND WATER CONTAMINATION          WICHITA   \n",
      "2     ALN000410750                              35TH AVENUE       BIRMINGHAM   \n",
      "3     KSD981710247     57TH AND NORTH BROADWAY STREETS SITE          WICHITA   \n",
      "4     MDD980918387  68TH STREET DUMP/INDUSTRIAL ENTERPRISES         ROSEDALE   \n",
      "...            ...                                      ...              ...   \n",
      "1899  NYD000511733                             YORK OIL CO.            MOIRA   \n",
      "1900  AZ0971590062            YUMA MARINE CORPS AIR STATION             YUMA   \n",
      "1901  OHD980794598                    ZANESVILLE WELL FIELD       ZANESVILLE   \n",
      "1902  FLD049985302      ZELLWOOD GROUND WATER CONTAMINATION         ZELLWOOD   \n",
      "1903  NJD986643153                      ZSCHIEGNER REFINING  HOWELL TOWNSHIP   \n",
      "\n",
      "        Country State                   National Priorities List Status  \\\n",
      "0        PLATTE    NE     \\n\\t\\t\\t\\n\\t\\t\\t\\t\\tFinal NPL\\n\\t\\t\\t\\t\\n\\t\\t   \n",
      "1      SEDGWICK    KS   \\n\\t\\t\\t\\n\\t\\t\\t\\t\\tDeleted NPL\\n\\t\\t\\t\\t\\n\\t\\t   \n",
      "2     JEFFERSON    AL  \\n\\t\\t\\t\\n\\t\\t\\t\\t\\tProposed NPL\\n\\t\\t\\t\\t\\n\\t\\t   \n",
      "3      SEDGWICK    KS     \\n\\t\\t\\t\\n\\t\\t\\t\\t\\tFinal NPL\\n\\t\\t\\t\\t\\n\\t\\t   \n",
      "4     BALTIMORE    MD  \\n\\t\\t\\t\\n\\t\\t\\t\\t\\tProposed NPL\\n\\t\\t\\t\\t\\n\\t\\t   \n",
      "...         ...   ...                                               ...   \n",
      "1899   FRANKLIN    NY     \\n\\t\\t\\t\\n\\t\\t\\t\\t\\tFinal NPL\\n\\t\\t\\t\\t\\n\\t\\t   \n",
      "1900       YUMA    AZ     \\n\\t\\t\\t\\n\\t\\t\\t\\t\\tFinal NPL\\n\\t\\t\\t\\t\\n\\t\\t   \n",
      "1901  MUSKINGUM    OH     \\n\\t\\t\\t\\n\\t\\t\\t\\t\\tFinal NPL\\n\\t\\t\\t\\t\\n\\t\\t   \n",
      "1902     ORANGE    FL     \\n\\t\\t\\t\\n\\t\\t\\t\\t\\tFinal NPL\\n\\t\\t\\t\\t\\n\\t\\t   \n",
      "1903   MONMOUTH    NJ     \\n\\t\\t\\t\\n\\t\\t\\t\\t\\tFinal NPL\\n\\t\\t\\t\\t\\n\\t\\t   \n",
      "\n",
      "     Superfund Alternative Approach Construction Complete  \\\n",
      "0                               No                    Yes   \n",
      "1                               No                    No    \n",
      "2                               No                    No    \n",
      "3                               No                    Yes   \n",
      "4                               Yes                   No    \n",
      "...                             ...                   ...   \n",
      "1899                            No                    Yes   \n",
      "1900                            No                    Yes   \n",
      "1901                            No                    Yes   \n",
      "1902                            No                    Yes   \n",
      "1903                            No                    Yes   \n",
      "\n",
      "     Site-wide Ready for Anticipated Use  \\\n",
      "0                                    Yes   \n",
      "1                                    No    \n",
      "2                                    No    \n",
      "3                                    No    \n",
      "4                                    No    \n",
      "...                                  ...   \n",
      "1899                                 Yes   \n",
      "1900                                 No    \n",
      "1901                                 Yes   \n",
      "1902                                 Yes   \n",
      "1903                                 Yes   \n",
      "\n",
      "                        Human Exposure Under Control  \\\n",
      "0                        \\n\\t\\t\\n\\t\\t\\tYes\\n\\t\\t\\n\\t   \n",
      "1                        \\n\\t\\t\\n\\t\\t\\tYes\\n\\t\\t\\n\\t   \n",
      "2     \\n\\t\\t\\n\\t\\t\\t\\tStatus Unavailable\\n\\t\\t\\t\\n\\t   \n",
      "3                        \\n\\t\\t\\n\\t\\t\\tYes\\n\\t\\t\\n\\t   \n",
      "4                        \\n\\t\\t\\n\\t\\t\\tYes\\n\\t\\t\\n\\t   \n",
      "...                                              ...   \n",
      "1899                     \\n\\t\\t\\n\\t\\t\\tYes\\n\\t\\t\\n\\t   \n",
      "1900                      \\n\\t\\t\\n\\t\\t\\tNo\\n\\t\\t\\n\\t   \n",
      "1901                     \\n\\t\\t\\n\\t\\t\\tYes\\n\\t\\t\\n\\t   \n",
      "1902                     \\n\\t\\t\\n\\t\\t\\tYes\\n\\t\\t\\n\\t   \n",
      "1903                     \\n\\t\\t\\n\\t\\t\\tYes\\n\\t\\t\\n\\t   \n",
      "\n",
      "                  Groundwater Migration Under Control  \n",
      "0                        \\n\\t\\t\\n\\t\\t\\tYes\\n\\t\\t\\n\\t   \n",
      "1                        \\n\\t\\t\\n\\t\\t\\tYes\\n\\t\\t\\n\\t   \n",
      "2     \\n\\t\\t\\n\\t\\t\\t\\tStatus Unavailable\\n\\t\\t\\t\\n\\t   \n",
      "3                         \\n\\t\\t\\n\\t\\t\\tNo\\n\\t\\t\\n\\t   \n",
      "4                        \\n\\t\\t\\n\\t\\t\\tYes\\n\\t\\t\\n\\t   \n",
      "...                                               ...  \n",
      "1899                     \\n\\t\\t\\n\\t\\t\\tYes\\n\\t\\t\\n\\t   \n",
      "1900       \\n\\t\\t\\n\\t\\t\\tInsufficient Data\\n\\t\\t\\n\\t   \n",
      "1901                     \\n\\t\\t\\n\\t\\t\\tYes\\n\\t\\t\\n\\t   \n",
      "1902                     \\n\\t\\t\\n\\t\\t\\tYes\\n\\t\\t\\n\\t   \n",
      "1903                     \\n\\t\\t\\n\\t\\t\\tYes\\n\\t\\t\\n\\t   \n",
      "\n",
      "[1904 rows x 11 columns]\n"
     ]
    }
   ],
   "source": [
    "print(df)"
   ]
  },
  {
   "cell_type": "code",
   "execution_count": 78,
   "id": "66a8ab61-1d40-4ebe-a3de-661d4a471d7c",
   "metadata": {},
   "outputs": [
    {
     "data": {
      "text/html": [
       "<div>\n",
       "<style scoped>\n",
       "    .dataframe tbody tr th:only-of-type {\n",
       "        vertical-align: middle;\n",
       "    }\n",
       "\n",
       "    .dataframe tbody tr th {\n",
       "        vertical-align: top;\n",
       "    }\n",
       "\n",
       "    .dataframe thead th {\n",
       "        text-align: right;\n",
       "    }\n",
       "</style>\n",
       "<table border=\"1\" class=\"dataframe\">\n",
       "  <thead>\n",
       "    <tr style=\"text-align: right;\">\n",
       "      <th></th>\n",
       "      <th>EPA ID</th>\n",
       "      <th>Site Name</th>\n",
       "      <th>City</th>\n",
       "      <th>Country</th>\n",
       "      <th>State</th>\n",
       "      <th>National Priorities List Status</th>\n",
       "      <th>Superfund Alternative Approach</th>\n",
       "      <th>Construction Complete</th>\n",
       "      <th>Site-wide Ready for Anticipated Use</th>\n",
       "      <th>Human Exposure Under Control</th>\n",
       "      <th>Groundwater Migration Under Control</th>\n",
       "    </tr>\n",
       "  </thead>\n",
       "  <tbody>\n",
       "    <tr>\n",
       "      <th>0</th>\n",
       "      <td>NED981713837</td>\n",
       "      <td>10TH STREET SITE</td>\n",
       "      <td>COLUMBUS</td>\n",
       "      <td>PLATTE</td>\n",
       "      <td>NE</td>\n",
       "      <td>\\n\\t\\t\\t\\n\\t\\t\\t\\t\\tFinal NPL\\n\\t\\t\\t\\t\\n\\t\\t</td>\n",
       "      <td>No</td>\n",
       "      <td>Yes</td>\n",
       "      <td>Yes</td>\n",
       "      <td>\\n\\t\\t\\n\\t\\t\\tYes\\n\\t\\t\\n\\t</td>\n",
       "      <td>\\n\\t\\t\\n\\t\\t\\tYes\\n\\t\\t\\n\\t</td>\n",
       "    </tr>\n",
       "    <tr>\n",
       "      <th>1</th>\n",
       "      <td>KSD007241656</td>\n",
       "      <td>29TH &amp; MEAD GROUND WATER CONTAMINATION</td>\n",
       "      <td>WICHITA</td>\n",
       "      <td>SEDGWICK</td>\n",
       "      <td>KS</td>\n",
       "      <td>\\n\\t\\t\\t\\n\\t\\t\\t\\t\\tDeleted NPL\\n\\t\\t\\t\\t\\n\\t\\t</td>\n",
       "      <td>No</td>\n",
       "      <td>No</td>\n",
       "      <td>No</td>\n",
       "      <td>\\n\\t\\t\\n\\t\\t\\tYes\\n\\t\\t\\n\\t</td>\n",
       "      <td>\\n\\t\\t\\n\\t\\t\\tYes\\n\\t\\t\\n\\t</td>\n",
       "    </tr>\n",
       "    <tr>\n",
       "      <th>2</th>\n",
       "      <td>ALN000410750</td>\n",
       "      <td>35TH AVENUE</td>\n",
       "      <td>BIRMINGHAM</td>\n",
       "      <td>JEFFERSON</td>\n",
       "      <td>AL</td>\n",
       "      <td>\\n\\t\\t\\t\\n\\t\\t\\t\\t\\tProposed NPL\\n\\t\\t\\t\\t\\n\\t\\t</td>\n",
       "      <td>No</td>\n",
       "      <td>No</td>\n",
       "      <td>No</td>\n",
       "      <td>\\n\\t\\t\\n\\t\\t\\t\\tStatus Unavailable\\n\\t\\t\\t\\n\\t</td>\n",
       "      <td>\\n\\t\\t\\n\\t\\t\\t\\tStatus Unavailable\\n\\t\\t\\t\\n\\t</td>\n",
       "    </tr>\n",
       "    <tr>\n",
       "      <th>3</th>\n",
       "      <td>KSD981710247</td>\n",
       "      <td>57TH AND NORTH BROADWAY STREETS SITE</td>\n",
       "      <td>WICHITA</td>\n",
       "      <td>SEDGWICK</td>\n",
       "      <td>KS</td>\n",
       "      <td>\\n\\t\\t\\t\\n\\t\\t\\t\\t\\tFinal NPL\\n\\t\\t\\t\\t\\n\\t\\t</td>\n",
       "      <td>No</td>\n",
       "      <td>Yes</td>\n",
       "      <td>No</td>\n",
       "      <td>\\n\\t\\t\\n\\t\\t\\tYes\\n\\t\\t\\n\\t</td>\n",
       "      <td>\\n\\t\\t\\n\\t\\t\\tNo\\n\\t\\t\\n\\t</td>\n",
       "    </tr>\n",
       "    <tr>\n",
       "      <th>4</th>\n",
       "      <td>MDD980918387</td>\n",
       "      <td>68TH STREET DUMP/INDUSTRIAL ENTERPRISES</td>\n",
       "      <td>ROSEDALE</td>\n",
       "      <td>BALTIMORE</td>\n",
       "      <td>MD</td>\n",
       "      <td>\\n\\t\\t\\t\\n\\t\\t\\t\\t\\tProposed NPL\\n\\t\\t\\t\\t\\n\\t\\t</td>\n",
       "      <td>Yes</td>\n",
       "      <td>No</td>\n",
       "      <td>No</td>\n",
       "      <td>\\n\\t\\t\\n\\t\\t\\tYes\\n\\t\\t\\n\\t</td>\n",
       "      <td>\\n\\t\\t\\n\\t\\t\\tYes\\n\\t\\t\\n\\t</td>\n",
       "    </tr>\n",
       "    <tr>\n",
       "      <th>5</th>\n",
       "      <td>UTD981548985</td>\n",
       "      <td>700 SOUTH 1600 EAST PCE PLUME</td>\n",
       "      <td>SALT LAKE CITY</td>\n",
       "      <td>SALT LAKE</td>\n",
       "      <td>UT</td>\n",
       "      <td>\\n\\t\\t\\t\\n\\t\\t\\t\\t\\tFinal NPL\\n\\t\\t\\t\\t\\n\\t\\t</td>\n",
       "      <td>No</td>\n",
       "      <td>No</td>\n",
       "      <td>No</td>\n",
       "      <td>\\n\\t\\t\\n\\t\\t\\tNo\\n\\t\\t\\n\\t</td>\n",
       "      <td>\\n\\t\\t\\n\\t\\t\\tInsufficient Data\\n\\t\\t\\n\\t</td>\n",
       "    </tr>\n",
       "    <tr>\n",
       "      <th>6</th>\n",
       "      <td>ILD980397079</td>\n",
       "      <td>A &amp; F MATERIAL RECLAIMING, INC.</td>\n",
       "      <td>GREENUP</td>\n",
       "      <td>CUMBERLAND</td>\n",
       "      <td>IL</td>\n",
       "      <td>\\n\\t\\t\\t\\n\\t\\t\\t\\t\\tDeleted NPL\\n\\t\\t\\t\\t\\n\\t\\t</td>\n",
       "      <td>No</td>\n",
       "      <td>Yes</td>\n",
       "      <td>Yes</td>\n",
       "      <td>\\n\\t\\t\\n\\t\\t\\tYes\\n\\t\\t\\n\\t</td>\n",
       "      <td>\\n\\t\\t\\n\\t\\t\\tYes\\n\\t\\t\\n\\t</td>\n",
       "    </tr>\n",
       "    <tr>\n",
       "      <th>7</th>\n",
       "      <td>NJD030253355</td>\n",
       "      <td>A. O. POLYMER</td>\n",
       "      <td>SPARTA TOWNSHIP</td>\n",
       "      <td>SUSSEX</td>\n",
       "      <td>NJ</td>\n",
       "      <td>\\n\\t\\t\\t\\n\\t\\t\\t\\t\\tFinal NPL\\n\\t\\t\\t\\t\\n\\t\\t</td>\n",
       "      <td>No</td>\n",
       "      <td>Yes</td>\n",
       "      <td>Yes</td>\n",
       "      <td>\\n\\t\\t\\n\\t\\t\\tYes\\n\\t\\t\\n\\t</td>\n",
       "      <td>\\n\\t\\t\\n\\t\\t\\tYes\\n\\t\\t\\n\\t</td>\n",
       "    </tr>\n",
       "    <tr>\n",
       "      <th>8</th>\n",
       "      <td>PAD004351003</td>\n",
       "      <td>A.I.W. FRANK/MID-COUNTY MUSTANG</td>\n",
       "      <td>EXTON</td>\n",
       "      <td>CHESTER</td>\n",
       "      <td>PA</td>\n",
       "      <td>\\n\\t\\t\\t\\n\\t\\t\\t\\t\\tFinal NPL\\n\\t\\t\\t\\t\\n\\t\\t</td>\n",
       "      <td>No</td>\n",
       "      <td>Yes</td>\n",
       "      <td>Yes</td>\n",
       "      <td>\\n\\t\\t\\n\\t\\t\\tYes\\n\\t\\t\\n\\t</td>\n",
       "      <td>\\n\\t\\t\\n\\t\\t\\tYes\\n\\t\\t\\n\\t</td>\n",
       "    </tr>\n",
       "    <tr>\n",
       "      <th>9</th>\n",
       "      <td>KYD980500961</td>\n",
       "      <td>A.L. TAYLOR (VALLEY OF DRUMS)</td>\n",
       "      <td>BROOKS</td>\n",
       "      <td>BULLITT</td>\n",
       "      <td>KY</td>\n",
       "      <td>\\n\\t\\t\\t\\n\\t\\t\\t\\t\\tDeleted NPL\\n\\t\\t\\t\\t\\n\\t\\t</td>\n",
       "      <td>No</td>\n",
       "      <td>Yes</td>\n",
       "      <td>No</td>\n",
       "      <td>\\n\\t\\t\\n\\t\\t\\tYes\\n\\t\\t\\n\\t</td>\n",
       "      <td>\\n\\t\\t\\n\\t\\t\\tYes\\n\\t\\t\\n\\t</td>\n",
       "    </tr>\n",
       "  </tbody>\n",
       "</table>\n",
       "</div>"
      ],
      "text/plain": [
       "         EPA ID                                Site Name             City  \\\n",
       "0  NED981713837                         10TH STREET SITE         COLUMBUS   \n",
       "1  KSD007241656   29TH & MEAD GROUND WATER CONTAMINATION          WICHITA   \n",
       "2  ALN000410750                              35TH AVENUE       BIRMINGHAM   \n",
       "3  KSD981710247     57TH AND NORTH BROADWAY STREETS SITE          WICHITA   \n",
       "4  MDD980918387  68TH STREET DUMP/INDUSTRIAL ENTERPRISES         ROSEDALE   \n",
       "5  UTD981548985            700 SOUTH 1600 EAST PCE PLUME   SALT LAKE CITY   \n",
       "6  ILD980397079          A & F MATERIAL RECLAIMING, INC.          GREENUP   \n",
       "7  NJD030253355                            A. O. POLYMER  SPARTA TOWNSHIP   \n",
       "8  PAD004351003          A.I.W. FRANK/MID-COUNTY MUSTANG            EXTON   \n",
       "9  KYD980500961            A.L. TAYLOR (VALLEY OF DRUMS)           BROOKS   \n",
       "\n",
       "      Country State                   National Priorities List Status  \\\n",
       "0      PLATTE    NE     \\n\\t\\t\\t\\n\\t\\t\\t\\t\\tFinal NPL\\n\\t\\t\\t\\t\\n\\t\\t   \n",
       "1    SEDGWICK    KS   \\n\\t\\t\\t\\n\\t\\t\\t\\t\\tDeleted NPL\\n\\t\\t\\t\\t\\n\\t\\t   \n",
       "2   JEFFERSON    AL  \\n\\t\\t\\t\\n\\t\\t\\t\\t\\tProposed NPL\\n\\t\\t\\t\\t\\n\\t\\t   \n",
       "3    SEDGWICK    KS     \\n\\t\\t\\t\\n\\t\\t\\t\\t\\tFinal NPL\\n\\t\\t\\t\\t\\n\\t\\t   \n",
       "4   BALTIMORE    MD  \\n\\t\\t\\t\\n\\t\\t\\t\\t\\tProposed NPL\\n\\t\\t\\t\\t\\n\\t\\t   \n",
       "5   SALT LAKE    UT     \\n\\t\\t\\t\\n\\t\\t\\t\\t\\tFinal NPL\\n\\t\\t\\t\\t\\n\\t\\t   \n",
       "6  CUMBERLAND    IL   \\n\\t\\t\\t\\n\\t\\t\\t\\t\\tDeleted NPL\\n\\t\\t\\t\\t\\n\\t\\t   \n",
       "7      SUSSEX    NJ     \\n\\t\\t\\t\\n\\t\\t\\t\\t\\tFinal NPL\\n\\t\\t\\t\\t\\n\\t\\t   \n",
       "8     CHESTER    PA     \\n\\t\\t\\t\\n\\t\\t\\t\\t\\tFinal NPL\\n\\t\\t\\t\\t\\n\\t\\t   \n",
       "9     BULLITT    KY   \\n\\t\\t\\t\\n\\t\\t\\t\\t\\tDeleted NPL\\n\\t\\t\\t\\t\\n\\t\\t   \n",
       "\n",
       "  Superfund Alternative Approach Construction Complete  \\\n",
       "0                            No                    Yes   \n",
       "1                            No                    No    \n",
       "2                            No                    No    \n",
       "3                            No                    Yes   \n",
       "4                            Yes                   No    \n",
       "5                            No                    No    \n",
       "6                            No                    Yes   \n",
       "7                            No                    Yes   \n",
       "8                            No                    Yes   \n",
       "9                            No                    Yes   \n",
       "\n",
       "  Site-wide Ready for Anticipated Use  \\\n",
       "0                                 Yes   \n",
       "1                                 No    \n",
       "2                                 No    \n",
       "3                                 No    \n",
       "4                                 No    \n",
       "5                                 No    \n",
       "6                                 Yes   \n",
       "7                                 Yes   \n",
       "8                                 Yes   \n",
       "9                                 No    \n",
       "\n",
       "                     Human Exposure Under Control  \\\n",
       "0                     \\n\\t\\t\\n\\t\\t\\tYes\\n\\t\\t\\n\\t   \n",
       "1                     \\n\\t\\t\\n\\t\\t\\tYes\\n\\t\\t\\n\\t   \n",
       "2  \\n\\t\\t\\n\\t\\t\\t\\tStatus Unavailable\\n\\t\\t\\t\\n\\t   \n",
       "3                     \\n\\t\\t\\n\\t\\t\\tYes\\n\\t\\t\\n\\t   \n",
       "4                     \\n\\t\\t\\n\\t\\t\\tYes\\n\\t\\t\\n\\t   \n",
       "5                      \\n\\t\\t\\n\\t\\t\\tNo\\n\\t\\t\\n\\t   \n",
       "6                     \\n\\t\\t\\n\\t\\t\\tYes\\n\\t\\t\\n\\t   \n",
       "7                     \\n\\t\\t\\n\\t\\t\\tYes\\n\\t\\t\\n\\t   \n",
       "8                     \\n\\t\\t\\n\\t\\t\\tYes\\n\\t\\t\\n\\t   \n",
       "9                     \\n\\t\\t\\n\\t\\t\\tYes\\n\\t\\t\\n\\t   \n",
       "\n",
       "               Groundwater Migration Under Control  \n",
       "0                     \\n\\t\\t\\n\\t\\t\\tYes\\n\\t\\t\\n\\t   \n",
       "1                     \\n\\t\\t\\n\\t\\t\\tYes\\n\\t\\t\\n\\t   \n",
       "2  \\n\\t\\t\\n\\t\\t\\t\\tStatus Unavailable\\n\\t\\t\\t\\n\\t   \n",
       "3                      \\n\\t\\t\\n\\t\\t\\tNo\\n\\t\\t\\n\\t   \n",
       "4                     \\n\\t\\t\\n\\t\\t\\tYes\\n\\t\\t\\n\\t   \n",
       "5       \\n\\t\\t\\n\\t\\t\\tInsufficient Data\\n\\t\\t\\n\\t   \n",
       "6                     \\n\\t\\t\\n\\t\\t\\tYes\\n\\t\\t\\n\\t   \n",
       "7                     \\n\\t\\t\\n\\t\\t\\tYes\\n\\t\\t\\n\\t   \n",
       "8                     \\n\\t\\t\\n\\t\\t\\tYes\\n\\t\\t\\n\\t   \n",
       "9                     \\n\\t\\t\\n\\t\\t\\tYes\\n\\t\\t\\n\\t   "
      ]
     },
     "execution_count": 78,
     "metadata": {},
     "output_type": "execute_result"
    }
   ],
   "source": [
    "df.head(10)"
   ]
  },
  {
   "cell_type": "code",
   "execution_count": 79,
   "id": "2b1065e7-55f0-44a3-92bf-f6e69e592318",
   "metadata": {},
   "outputs": [
    {
     "name": "stdout",
     "output_type": "stream",
     "text": [
      "DataFrame exported to 'scraped_data_uncleaned.csv'\n"
     ]
    }
   ],
   "source": [
    "df.to_csv('scraped_data_uncleaned.csv', index=False)\n",
    "print(\"DataFrame exported to 'scraped_data_uncleaned.csv'\")"
   ]
  },
  {
   "cell_type": "code",
   "execution_count": 80,
   "id": "29888237-1ca6-4325-b0f7-b6cdb532337c",
   "metadata": {},
   "outputs": [
    {
     "data": {
      "text/plain": [
       "<coroutine object PlaywrightContextManager.__aexit__ at 0x1263c6030>"
      ]
     },
     "execution_count": 80,
     "metadata": {},
     "output_type": "execute_result"
    }
   ],
   "source": [
    "await browser.close()\n",
    "playwright.stop()"
   ]
  },
  {
   "cell_type": "code",
   "execution_count": null,
   "id": "67e66c1f-2ab4-40a4-ad91-eaa9dcfc821a",
   "metadata": {},
   "outputs": [],
   "source": []
  }
 ],
 "metadata": {
  "kernelspec": {
   "display_name": "Python 3 (ipykernel)",
   "language": "python",
   "name": "python3"
  },
  "language_info": {
   "codemirror_mode": {
    "name": "ipython",
    "version": 3
   },
   "file_extension": ".py",
   "mimetype": "text/x-python",
   "name": "python",
   "nbconvert_exporter": "python",
   "pygments_lexer": "ipython3",
   "version": "3.10.12"
  }
 },
 "nbformat": 4,
 "nbformat_minor": 5
}
